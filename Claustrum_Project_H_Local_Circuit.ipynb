{
 "cells": [
  {
   "cell_type": "markdown",
   "metadata": {},
   "source": [
    "\n",
    "This is my replication of Jorge M's model in Python, local version EEI. Hector June 2020\n"
   ]
  },
  {
   "cell_type": "markdown",
   "metadata": {},
   "source": [
    "# >>>>>>>>>>>>>>>>>>>>>>>>CLEANING<<<<<<<<<<<<<<<<<<<<<<<<<<"
   ]
  },
  {
   "cell_type": "code",
   "execution_count": 23,
   "metadata": {},
   "outputs": [
    {
     "name": "stdout",
     "output_type": "stream",
     "text": [
      "The watermark extension is already loaded. To reload it, use:\n",
      "  %reload_ext watermark\n",
      "CPython 3.7.4\n",
      "IPython 7.8.0\n",
      "\n",
      "pandas 0.25.1\n",
      "numpy 1.16.5\n",
      "scipy.io 1.3.1\n",
      "brian2 2.3\n",
      "watermark 2.0.2\n",
      "\n",
      "compiler   : MSC v.1915 64 bit (AMD64)\n",
      "system     : Windows\n",
      "release    : 10\n",
      "machine    : AMD64\n",
      "processor  : Intel64 Family 6 Model 78 Stepping 3, GenuineIntel\n",
      "CPU cores  : 4\n",
      "interpreter: 64bit\n"
     ]
    }
   ],
   "source": [
    "%load_ext watermark\n",
    "\n",
    "%watermark -v -m -p pandas,numpy,scipy.io,brian2,watermark"
   ]
  },
  {
   "cell_type": "code",
   "execution_count": 17,
   "metadata": {},
   "outputs": [
    {
     "name": "stdout",
     "output_type": "stream",
     "text": [
      "Collecting watermark\n",
      "  Downloading https://files.pythonhosted.org/packages/60/fe/3ed83b6122e70dce6fe269dfd763103c333f168bf91037add73ea4fe81c2/watermark-2.0.2-py2.py3-none-any.whl\n",
      "Requirement already satisfied: ipython in c:\\users\\hector\\anaconda4\\lib\\site-packages (from watermark) (7.8.0)\n",
      "Requirement already satisfied: jedi>=0.10 in c:\\users\\hector\\anaconda4\\lib\\site-packages (from ipython->watermark) (0.15.1)\n",
      "Requirement already satisfied: pygments in c:\\users\\hector\\anaconda4\\lib\\site-packages (from ipython->watermark) (2.4.2)\n",
      "Requirement already satisfied: prompt-toolkit<2.1.0,>=2.0.0 in c:\\users\\hector\\anaconda4\\lib\\site-packages (from ipython->watermark) (2.0.10)\n",
      "Requirement already satisfied: colorama; sys_platform == \"win32\" in c:\\users\\hector\\anaconda4\\lib\\site-packages (from ipython->watermark) (0.4.1)\n",
      "Requirement already satisfied: decorator in c:\\users\\hector\\anaconda4\\lib\\site-packages (from ipython->watermark) (4.4.0)\n",
      "Requirement already satisfied: traitlets>=4.2 in c:\\users\\hector\\anaconda4\\lib\\site-packages (from ipython->watermark) (4.3.3)\n",
      "Requirement already satisfied: setuptools>=18.5 in c:\\users\\hector\\anaconda4\\lib\\site-packages (from ipython->watermark) (41.4.0)\n",
      "Requirement already satisfied: pickleshare in c:\\users\\hector\\anaconda4\\lib\\site-packages (from ipython->watermark) (0.7.5)\n",
      "Requirement already satisfied: backcall in c:\\users\\hector\\anaconda4\\lib\\site-packages (from ipython->watermark) (0.1.0)\n",
      "Requirement already satisfied: parso>=0.5.0 in c:\\users\\hector\\anaconda4\\lib\\site-packages (from jedi>=0.10->ipython->watermark) (0.5.1)\n",
      "Requirement already satisfied: wcwidth in c:\\users\\hector\\anaconda4\\lib\\site-packages (from prompt-toolkit<2.1.0,>=2.0.0->ipython->watermark) (0.1.7)\n",
      "Requirement already satisfied: six>=1.9.0 in c:\\users\\hector\\anaconda4\\lib\\site-packages (from prompt-toolkit<2.1.0,>=2.0.0->ipython->watermark) (1.12.0)\n",
      "Requirement already satisfied: ipython-genutils in c:\\users\\hector\\anaconda4\\lib\\site-packages (from traitlets>=4.2->ipython->watermark) (0.2.0)\n",
      "Installing collected packages: watermark\n",
      "Successfully installed watermark-2.0.2\n"
     ]
    }
   ],
   "source": [
    "!pip install watermark"
   ]
  },
  {
   "cell_type": "code",
   "execution_count": 18,
   "metadata": {},
   "outputs": [],
   "source": [
    "# libraries\n",
    "import numpy as np\n",
    "import numpy.matlib\n",
    "import pandas \n",
    "import scipy.io as sio\n",
    "import brian2\n",
    "import watermark"
   ]
  },
  {
   "cell_type": "code",
   "execution_count": 2,
   "metadata": {},
   "outputs": [],
   "source": [
    "#Graphic\n",
    "import matplotlib.pyplot as plt\n",
    "from matplotlib import cm\n",
    "width_in_inches = 12\n",
    "height_in_inches = 8\n",
    "dots_per_inch = 70"
   ]
  },
  {
   "cell_type": "markdown",
   "metadata": {},
   "source": [
    "# 1. Theory\n"
   ]
  },
  {
   "cell_type": "markdown",
   "metadata": {},
   "source": [
    "I define the function that transforms input current to changes in firing rate for excitatory neurons (Abbott and Chance, 2005). \n",
    "<br>\n",
    "$$r_E = \\frac{aI_{syn,E} - b}{1 - e^{-d(aI_{syn,E} - b)}} $$\n",
    "\n",
    "Update the firing rates of the interneurons using a threshold linear input/output function\n",
    "$$ \\begin{cases}\n",
    "  r_I = \\frac{1}{g_2}(c_II_{syn,I} - c_0) + r_0 & \\text{for } r_I\\ge 0\\\\    \n",
    "  r_I = 0     & \\text{otherwise }  \n",
    "\\end{cases} $$"
   ]
  },
  {
   "cell_type": "code",
   "execution_count": 3,
   "metadata": {},
   "outputs": [],
   "source": [
    "def current_to_frequency(input_current,population_type,parameters):\n",
    "    if population_type == 'E':\n",
    "        a = parameters['a_E']\n",
    "        b = parameters['b_E']\n",
    "        d = parameters['d_E']\n",
    "        return np.divide((a*input_current - b),(1 - np.exp(-d*(a*input_current - b))))\n",
    "    if population_type == 'I':\n",
    "        c_I = parameters['c_I']\n",
    "        g_2 = parameters['g_2']\n",
    "        r_0 = parameters['r0_I']\n",
    "        c_0 = parameters['c_0']\n",
    "        r = np.maximum((1/g_2)*(c_I*input_current - c_0) + r_0,0)\n",
    "        return r\n",
    "        # NOTE: using python broadcasting for ones subtraction, so should work for multi-area case too"
   ]
  },
  {
   "cell_type": "markdown",
   "metadata": {},
   "source": [
    "Define the NMDA derivative\n",
    "<br>\n",
    "$$ \\frac{dS_{NMDA}}{dt} = -\\frac{S_{NMDA}}{\\tau_{NMDA}} + (1 - S_{NMDA})\\gamma r_E$$\n",
    "(Wong & Wang, 2006)"
   ]
  },
  {
   "cell_type": "code",
   "execution_count": 4,
   "metadata": {},
   "outputs": [],
   "source": [
    "def NMDA_deriv(S_NMDA_prev,rate_now,parameters):\n",
    "    \n",
    "    return -S_NMDA_prev/parameters['tau_NMDA'] + parameters['gam']*(1 - S_NMDA_prev)*rate_now"
   ]
  },
  {
   "cell_type": "markdown",
   "metadata": {},
   "source": [
    "Define the GABA derivative\n",
    "<br>\n",
    "$$ \\frac{dS_{GABA}}{dt} = -\\frac{S_{GABA}}{\\tau_{GABA}} + \\gamma_Ir_I$$\n",
    "(Wong & Wang, 2006)"
   ]
  },
  {
   "cell_type": "code",
   "execution_count": 5,
   "metadata": {},
   "outputs": [],
   "source": [
    "def GABA_deriv(S_GABA_prev,rate_now,parameters):\n",
    "    return -S_GABA_prev/parameters['tau_GABA'] + parameters['gammai']*rate_now"
   ]
  },
  {
   "cell_type": "markdown",
   "metadata": {},
   "source": [
    "# 2. Set Parameters"
   ]
  },
  {
   "cell_type": "code",
   "execution_count": 6,
   "metadata": {},
   "outputs": [],
   "source": [
    "parameters = {}\n",
    "parameters.update({'SF1': 0.5, # Jorge M scaling factor to keep rates in check\n",
    "                    'SF2': 2})    # Jorge M scaling factor to keep rates in check\n",
    "                   \n",
    "parameters.update({ # Time constants\n",
    "                    'tau_NMDA': 0.06   * brian2.second,    # s \n",
    "                    'tau_GABA': 0.005  * brian2.second,    # s \n",
    "                    'tau_AMPA': 0.002  * brian2.second,    # s \n",
    "                    'tau_rates': 0.002 * brian2.second,    # s \n",
    "                    # f-I curve parameters - E populations\n",
    "                    'a_E': 270. *parameters['SF1']  * brian2.Hz/brian2.nA,  # Hz/nA\n",
    "                    'b_E': 108. *parameters['SF1']  * brian2.Hz,            # Hz\n",
    "                    'd_E': 0.154*parameters['SF2']  * brian2.second,        # s\n",
    "                    'gam': 0.641*parameters['SF2'],                         # unitless\n",
    "                    # f-I curve parameters - I populations\n",
    "                    'g_2': 1/(0.5*parameters['SF1']),                    # unitless\n",
    "                    'c_I': 615  * brian2.Hz/brian2.nA,                 # Hz/nA\n",
    "                    'c_0': 177  * brian2.Hz,                           # Hz\n",
    "                    'gammai': parameters['SF2'],                       # unitless\n",
    "                    # Local connectivity matrix strengths\n",
    "    \n",
    "                    # Strength of connections from E cells\n",
    "                    'g_E_self': 0.48 * brian2.nA ,        # nA --> I_local_grad_NMDA\n",
    "                    'g_E_cross': 0.0107* brian2.nA,         # nA --> J_NMDA --> I_local_nongrad_NMDA\n",
    "                    # Strength of connections from I cells\n",
    "                    'g_E_I':  -0.31   * brian2.nA,         # nA --> J_GABA --> I_local_GABA\n",
    "                    'g_Iself': -0.12  * brian2.nA,         # nA --> J_GABA --> I_local_GABA\n",
    "                    'g_I_E': 233 * brian2.pA,               #pA\n",
    "                    # Background inputs\n",
    "                    'I0_E': 0.3294     * brian2.nA,         # nA\n",
    "                    'I0_I': 0.26       * brian2.nA,         # nA\n",
    "                    # Noise std dev\n",
    "                    'std_noise': 0.01 * brian2.nA,         # nA      \n",
    "                    # initial values\n",
    "                    'r0_E': 5 * brian2.Hz,\n",
    "                    'r0_I': 11*parameters['SF1'] * brian2.Hz\n",
    "                        })      \n",
    "parameters.update({ # Zetas\n",
    "                    'zeta': parameters['c_I']*parameters['g_E_I']*parameters['tau_GABA']*parameters['gammai']\\\n",
    "                            /(parameters['g_2'] - parameters['g_Iself']*parameters['tau_GABA']*parameters['gammai']*parameters['c_I']),\n",
    "                    'zeta2': 2*parameters['c_I']*parameters['tau_GABA']*parameters['gammai']*parameters['g_E_I']\\\n",
    "                            /(parameters['c_I']*parameters['tau_GABA']*parameters['gammai']*parameters['g_Iself'] - parameters['g_2']),\n",
    "                        })    \n",
    "parameters.update({'S0': 0}) # #initial S_NMDA and S_GABA\n",
    "parameters.update({'dt': 0.5 * brian2.ms}) \n",
    "\n",
    "parameters.update({'trial_length': 10 * brian2.second,\n",
    "                   'start_time': 0 *brian2.second, # s\n",
    "                   'end_time': 10 *brian2.second}) "
   ]
  },
  {
   "cell_type": "markdown",
   "metadata": {},
   "source": [
    "# 2 Connectivity"
   ]
  },
  {
   "cell_type": "markdown",
   "metadata": {},
   "source": [
    "## Cortical connectivity"
   ]
  },
  {
   "cell_type": "code",
   "execution_count": 7,
   "metadata": {},
   "outputs": [
    {
     "data": {
      "text/html": [
       "<div>\n",
       "<style scoped>\n",
       "    .dataframe tbody tr th:only-of-type {\n",
       "        vertical-align: middle;\n",
       "    }\n",
       "\n",
       "    .dataframe tbody tr th {\n",
       "        vertical-align: top;\n",
       "    }\n",
       "\n",
       "    .dataframe thead th {\n",
       "        text-align: right;\n",
       "    }\n",
       "</style>\n",
       "<table border=\"1\" class=\"dataframe\">\n",
       "  <thead>\n",
       "    <tr style=\"text-align: right;\">\n",
       "      <th></th>\n",
       "      <th>from E1</th>\n",
       "      <th>from E2</th>\n",
       "      <th>from I</th>\n",
       "    </tr>\n",
       "  </thead>\n",
       "  <tbody>\n",
       "    <tr>\n",
       "      <td>to E1</td>\n",
       "      <td>4.800000e-10</td>\n",
       "      <td>1.070000e-11</td>\n",
       "      <td>-3.100000e-10</td>\n",
       "    </tr>\n",
       "    <tr>\n",
       "      <td>to E2</td>\n",
       "      <td>1.070000e-11</td>\n",
       "      <td>4.800000e-10</td>\n",
       "      <td>-3.100000e-10</td>\n",
       "    </tr>\n",
       "    <tr>\n",
       "      <td>to I</td>\n",
       "      <td>2.330000e-10</td>\n",
       "      <td>2.330000e-10</td>\n",
       "      <td>-1.200000e-10</td>\n",
       "    </tr>\n",
       "  </tbody>\n",
       "</table>\n",
       "</div>"
      ],
      "text/plain": [
       "            from E1       from E2        from I\n",
       "to E1  4.800000e-10  1.070000e-11 -3.100000e-10\n",
       "to E2  1.070000e-11  4.800000e-10 -3.100000e-10\n",
       "to I   2.330000e-10  2.330000e-10 -1.200000e-10"
      ]
     },
     "metadata": {},
     "output_type": "display_data"
    }
   ],
   "source": [
    "######## LOCAL ########\n",
    "J =  np.array([[parameters['g_E_self']    , parameters['g_E_cross'], parameters['g_I_E']],\n",
    "              [parameters['g_E_cross']    , parameters['g_E_self'],  parameters['g_I_E']],\n",
    "               [parameters['g_E_I'],parameters['g_E_I'],parameters['g_Iself'] ]]).T * brian2.amp\n",
    "\n",
    "#plot\n",
    "pops = ['E1','E2','I']\n",
    "pops_column_list  = ['from '+ mystring for mystring in pops]\n",
    "pops_row_list  = ['to '+ mystring for mystring in pops]\n",
    "\n",
    "df_J = pandas.DataFrame(J , columns=pops_column_list, index=pops_row_list)\n",
    "\n",
    "J_NMDA = J*((J>0).astype(np.int))\n",
    "J_GABA = J*((J<0).astype(np.int))\n",
    "\n",
    "display(df_J)"
   ]
  },
  {
   "cell_type": "code",
   "execution_count": 8,
   "metadata": {},
   "outputs": [
    {
     "data": {
      "text/latex": [
       "$\\left[\\begin{matrix}480.0 & 10.7 & 0.0\\\\10.7 & 480.0 & 0.0\\\\233.0 & 233.0 & 0.0\\end{matrix}\\right]\\,\\mathrm{p}\\,\\mathrm{A}$"
      ],
      "text/plain": [
       "array([[480. ,  10.7,  -0. ],\n",
       "       [ 10.7, 480. ,  -0. ],\n",
       "       [233. , 233. ,  -0. ]]) * pamp"
      ]
     },
     "metadata": {},
     "output_type": "display_data"
    }
   ],
   "source": [
    "display(J_NMDA)"
   ]
  },
  {
   "cell_type": "code",
   "execution_count": 9,
   "metadata": {},
   "outputs": [
    {
     "data": {
      "text/latex": [
       "$\\left[\\begin{matrix}0.0 & 0.0 & -310.0\\\\0.0 & 0.0 & -310.0\\\\0.0 & 0.0 & -120.0\\end{matrix}\\right]\\,\\mathrm{p}\\,\\mathrm{A}$"
      ],
      "text/plain": [
       "array([[   0.,    0., -310.],\n",
       "       [   0.,    0., -310.],\n",
       "       [   0.,    0., -120.]]) * pamp"
      ]
     },
     "metadata": {},
     "output_type": "display_data"
    }
   ],
   "source": [
    "display(J_GABA)"
   ]
  },
  {
   "cell_type": "markdown",
   "metadata": {},
   "source": [
    "# 3 Model class"
   ]
  },
  {
   "cell_type": "code",
   "execution_count": 10,
   "metadata": {},
   "outputs": [],
   "source": [
    "class Model(object,):\n",
    "    def __init__(self, parameter,n_trial=1):\n",
    "        self.parameters = parameter.copy()       # Model parameters\n",
    "        self.n_trial = n_trial\n",
    "\n",
    "    def run(self):\n",
    "        self.__init__(self.parameters)\n",
    "       \n",
    "        # Set up simulation parameters\n",
    "        self.dt= self.parameters['dt']   # timestep \n",
    "        self.num_iterations = int(self.parameters['trial_length']/self.dt)\n",
    "        num_iterations =  self.num_iterations\n",
    "        time = np.arange(0, self.parameters['trial_length'], self.parameters['dt'])\n",
    "      \n",
    "        #local parameters\n",
    "        num_areas = 1 #local\n",
    "        num_pops  = 3\n",
    "        num_E_pops = 2\n",
    "        pops = ['E_1','E_2','I']\n",
    "\n",
    "        # Choose initial values for rates and synapse variables\n",
    "        R0vec = np.array([self.parameters['r0_E'],self.parameters['r0_E'],self.parameters['r0_E']])\n",
    "        R0 = np.matlib.repmat(R0vec, num_areas, 1) * brian2.Hz\n",
    "        self.S_NMDA0 = self.parameters['S0']*np.concatenate((np.ones((num_areas,2)),np.zeros((num_areas,num_pops-2))), axis=1)\n",
    "        self.S_GABA0 = self.parameters['S0']*np.concatenate((np.zeros((num_areas,2)),np.ones((num_areas,num_pops-2))), axis=1)\n",
    "\n",
    "        # Preassign rate and synapse matrices\n",
    "        self.R = np.zeros((num_iterations,num_areas,num_pops)) * brian2.Hz\n",
    "        self.R[0,:,:] = R0\n",
    "        self.S_NMDA = np.zeros((num_iterations,num_areas,num_pops))\n",
    "        self.S_NMDA[0,:,:] =  self.S_NMDA0\n",
    "        self.S_GABA = np.zeros((num_iterations,num_areas,num_pops))\n",
    "        self.S_GABA[0,:,:] =  self.S_GABA0\n",
    "        \n",
    "        # Choose stimulus and distractor strength\n",
    "        stim_strength = self.parameters['stim_strength']\n",
    "        distractor_strength = self.parameters['distractor_strength']\n",
    "\n",
    "        # Preassign external inputs\n",
    "        I_ext      = np.zeros((num_iterations,num_areas,num_pops)) * brian2.amp\n",
    "        self.stim_on    = self.parameters['stim_on'] \n",
    "        self.stim_off   = self.parameters['stim_off'] \n",
    "        self.distraction_on  = self.parameters['distraction_on']\n",
    "        self.distraction_off = self.parameters['distraction_off']\n",
    "\n",
    "        # External input applied to  E1\n",
    "        I_ext[int(self.stim_on/self.dt):int(self.stim_off/self.dt),0,pops.index('E_1')] = stim_strength\n",
    "        # External distraction applied to E2\n",
    "        I_ext[int(self.distraction_on/self.dt):int(self.distraction_off/self.dt),0,pops.index('E_2')] = distractor_strength\n",
    "\n",
    "        # Create matrices in which we can store the currents\n",
    "        I_local_NMDA =  np.zeros((num_iterations,num_areas,num_pops)) * brian2.pA\n",
    "        I_local_grad_NMDA =  np.zeros((num_iterations,num_areas,num_pops)) * brian2.pA\n",
    "        I_local_GABA =  np.zeros((num_iterations,num_areas,num_pops)) * brian2.pA\n",
    "        self.I_total      =  np.zeros((num_iterations,num_areas,num_pops)) * brian2.pA\n",
    "        \n",
    "        # Define background inputs\n",
    "        I_0 = np.zeros((num_areas,num_pops)) * brian2.pA\n",
    "        I_0[:,[pops.index('E_1'),pops.index('E_2')]] = self.parameters['I0_E']\n",
    "        I_0[:,pops.index('I')] = self.parameters['I0_I']\n",
    "\n",
    "\n",
    "        # NOISE\n",
    "        eta = np.random.normal(loc=0.0, scale=1.0, size=(num_iterations,num_areas,num_pops ))\n",
    "        noise_rhs = eta*((np.sqrt(self.parameters['tau_AMPA']*np.power(self.parameters['std_noise'],2))*np.sqrt(self.dt))/self.parameters['tau_AMPA'])\n",
    "        noise_rhs[:,:,2] = 0 # Jorge only put noise on the E pops\n",
    "        I_noise = np.zeros((num_areas , num_pops )) *brian2.pA\n",
    "        \n",
    "        for i_t in range(1,num_iterations):\n",
    "            \n",
    "            # update noise \n",
    "            I_noise = I_noise + -I_noise*(self.dt/self.parameters['tau_AMPA']) + noise_rhs[i_t-1,:,:]\n",
    "            # local  NMDA\n",
    "            I_local_NMDA[i_t-1,:,:] = J_NMDA.dot(self.S_NMDA[i_t-1,:,:].T).T\n",
    "            # local GABA \n",
    "            I_local_GABA[i_t-1,:,:] = J_GABA.dot(self.S_GABA[i_t-1,:,:].T).T\n",
    "            # Define total input current \n",
    "            self.I_total[i_t-1,:,:] = I_local_NMDA[i_t-1,:,:] + I_local_grad_NMDA[i_t-1,:,:] + I_local_GABA[i_t-1,:,:] + I_0 + I_ext[i_t-1,:,:]  + I_noise * self.parameters['turn_noise']\n",
    "\n",
    "            # Update the firing rates of the two excitatory populations.\n",
    "            self.R[i_t,:,:2] = self.R[i_t-1,:,:2] + self.dt*current_to_frequency(self.I_total[i_t-1,:,:2],'E',self.parameters)/self.parameters['tau_AMPA'] -self.dt*self.R[i_t-1,:,:2]/self.parameters['tau_AMPA']\n",
    "            # Update the firing rates of the inhibitory population. \n",
    "            self.R[i_t,:,2] =  self.R[i_t-1,:,2] + self.dt*current_to_frequency(self.I_total[i_t-1,:,2],'I',self.parameters)/self.parameters['tau_AMPA'] -self.dt*self.R[i_t-1,:,2]/self.parameters['tau_AMPA']\n",
    "            # Update the NMDA synapses\n",
    "            self.S_NMDA[i_t,:,:2] = self.S_NMDA[i_t-1,:,:2] + self.dt*NMDA_deriv(self.S_NMDA[i_t-1,:,:2],self.R[i_t,:,:2],self.parameters)\n",
    "            # Update the GABA synapses\n",
    "            self.S_GABA[i_t,:,2] = self.S_GABA[i_t-1,:,2] + self.dt*GABA_deriv(self.S_GABA[i_t-1,:,2],self.R[i_t,:,2],self.parameters)\n",
    "\n",
    "    def draw(self,):\n",
    "        self.__init__(self.parameters)\n",
    "        \n",
    "        fig=plt.figure(figsize=(16,8), dpi= 80, facecolor='w', edgecolor='k')\n",
    "        plt.rcParams.update({'font.size': 12})\n",
    "        ax = plt.subplot(1,2,1)\n",
    "        plt.subplots_adjust(hspace = 1)\n",
    "        # Plot the rates for the E1 soma\n",
    "        plt.plot(np.arange(self.parameters['start_time'],self.parameters['end_time'],self.dt),self.R[np.arange(int(self.parameters['start_time'].item()/self.dt),int(self.parameters['end_time'].item()/self.dt),1),0,0],label = 'E1')\n",
    "        # Plot the rates for the E2 soma\n",
    "        plt.plot(np.arange(self.parameters['start_time'],self.parameters['end_time'],self.dt),self.R[np.arange(int(self.parameters['start_time'].item()/self.dt),int(self.parameters['end_time'].item()/self.dt),1),0,1],label = 'E2')\n",
    "        # Plot the rates for the I soma\n",
    "        plt.plot(np.arange(self.parameters['start_time'],self.parameters['end_time'],self.dt),self.R[np.arange(int(self.parameters['start_time'].item()/self.dt),int(self.parameters['end_time'].item()/self.dt),1),0,2],label = 'I')\n",
    "        # Plot the stimulation time\n",
    "        plt.plot([self.stim_on,self.stim_off],[np.max(self.R[:,0,:2]+0.15*np.max(self.R[:,0,:2])),np.max(self.R[:,0,:2]+0.15*np.max(self.R[:,0,:2]))],color='blue',linewidth=5.0)\n",
    "        # Plot the distraction time\n",
    "        plt.plot([self.distraction_on,self.distraction_off],[np.max(self.R[:,0,:2]+0.25*np.max(self.R[:,0,:2])),np.max(self.R[:,0,:2]+0.25*np.max(self.R[:,0,:2]))],color='red',linewidth=5.0)\n",
    "        # place text above the black line\n",
    "        axes = plt.gca()\n",
    "        plt.legend(['E1','E2','I'])\n",
    "        plt.xlabel('time (s)')\n",
    "        plt.ylabel('firing rate (Hz)')\n",
    "        plt.ylim(0, 60) \n",
    "        plt.legend()\n",
    "        plt.show()"
   ]
  },
  {
   "cell_type": "markdown",
   "metadata": {},
   "source": [
    "## Run model"
   ]
  },
  {
   "cell_type": "code",
   "execution_count": 11,
   "metadata": {},
   "outputs": [],
   "source": [
    "p_0 = parameters.copy()\n",
    "\n",
    "p_0.update({'distractor_strength':0 * brian2.nA,\n",
    "            'stim_strength':0.1 * brian2.nA\n",
    "           })\n",
    "\n",
    "p_0.update({'distraction_on': 4 * brian2.second,\n",
    "            'distraction_off':4.5 * brian2.second,\n",
    "            'stim_on': 4 * brian2.second,\n",
    "            'stim_off': 4.5 * brian2.second,\n",
    "                  })\n",
    "p_0.update({'turn_noise':0\n",
    "                  })"
   ]
  },
  {
   "cell_type": "code",
   "execution_count": 12,
   "metadata": {},
   "outputs": [
    {
     "data": {
      "image/png": "[encoded data removed]",
      "text/plain": [
       "<Figure size 1280x640 with 1 Axes>"
      ]
     },
     "metadata": {},
     "output_type": "display_data"
    }
   ],
   "source": [
    "model_0 = Model(p_0)\n",
    "model_0.run()\n",
    "fig = model_0.draw()"
   ]
  },
  {
   "cell_type": "markdown",
   "metadata": {},
   "source": [
    "# Fine tuning to get persistent activity"
   ]
  },
  {
   "cell_type": "code",
   "execution_count": 13,
   "metadata": {},
   "outputs": [],
   "source": [
    "def fine_tuning(parameter,par_list = np.arange(0,0.5,0.1)):\n",
    "    for p, par in enumerate(par_list):\n",
    "        print('distractor_strength =', par)\n",
    "        p_1 = parameter.copy()\n",
    "        p_1.update({'distractor_strength': par * brian2.nA})\n",
    "        model_1 = Model(p_1)\n",
    "        model_1.run()\n",
    "        fig = model_1.draw()\n",
    "    return \n",
    "  "
   ]
  },
  {
   "cell_type": "code",
   "execution_count": 14,
   "metadata": {},
   "outputs": [
    {
     "name": "stdout",
     "output_type": "stream",
     "text": [
      "distractor_strength = 0.0\n"
     ]
    },
    {
     "ename": "KeyboardInterrupt",
     "evalue": "",
     "output_type": "error",
     "traceback": [
      "\u001b[1;31m---------------------------------------------------------------------------\u001b[0m",
      "\u001b[1;31mKeyboardInterrupt\u001b[0m                         Traceback (most recent call last)",
      "\u001b[1;32m<ipython-input-14-465bdacd09f5>\u001b[0m in \u001b[0;36m<module>\u001b[1;34m\u001b[0m\n\u001b[0;32m      1\u001b[0m \u001b[0ml\u001b[0m \u001b[1;33m=\u001b[0m \u001b[0mnp\u001b[0m\u001b[1;33m.\u001b[0m\u001b[0marange\u001b[0m\u001b[1;33m(\u001b[0m\u001b[1;36m0\u001b[0m\u001b[1;33m,\u001b[0m\u001b[1;36m0.01\u001b[0m\u001b[1;33m,\u001b[0m\u001b[1;36m0.002\u001b[0m\u001b[1;33m)\u001b[0m\u001b[1;33m\u001b[0m\u001b[1;33m\u001b[0m\u001b[0m\n\u001b[0;32m      2\u001b[0m \u001b[1;33m\u001b[0m\u001b[0m\n\u001b[1;32m----> 3\u001b[1;33m \u001b[0mfine_tuning\u001b[0m\u001b[1;33m(\u001b[0m\u001b[0mp_0\u001b[0m\u001b[1;33m,\u001b[0m\u001b[0ml\u001b[0m\u001b[1;33m)\u001b[0m\u001b[1;33m\u001b[0m\u001b[1;33m\u001b[0m\u001b[0m\n\u001b[0m",
      "\u001b[1;32m<ipython-input-13-24d0a2200669>\u001b[0m in \u001b[0;36mfine_tuning\u001b[1;34m(parameter, par_list)\u001b[0m\n\u001b[0;32m      5\u001b[0m         \u001b[0mp_1\u001b[0m\u001b[1;33m.\u001b[0m\u001b[0mupdate\u001b[0m\u001b[1;33m(\u001b[0m\u001b[1;33m{\u001b[0m\u001b[1;34m'distractor_strength'\u001b[0m\u001b[1;33m:\u001b[0m \u001b[0mpar\u001b[0m \u001b[1;33m*\u001b[0m \u001b[0mbrian2\u001b[0m\u001b[1;33m.\u001b[0m\u001b[0mnA\u001b[0m\u001b[1;33m}\u001b[0m\u001b[1;33m)\u001b[0m\u001b[1;33m\u001b[0m\u001b[1;33m\u001b[0m\u001b[0m\n\u001b[0;32m      6\u001b[0m         \u001b[0mmodel_1\u001b[0m \u001b[1;33m=\u001b[0m \u001b[0mModel\u001b[0m\u001b[1;33m(\u001b[0m\u001b[0mp_1\u001b[0m\u001b[1;33m)\u001b[0m\u001b[1;33m\u001b[0m\u001b[1;33m\u001b[0m\u001b[0m\n\u001b[1;32m----> 7\u001b[1;33m         \u001b[0mmodel_1\u001b[0m\u001b[1;33m.\u001b[0m\u001b[0mrun\u001b[0m\u001b[1;33m(\u001b[0m\u001b[1;33m)\u001b[0m\u001b[1;33m\u001b[0m\u001b[1;33m\u001b[0m\u001b[0m\n\u001b[0m\u001b[0;32m      8\u001b[0m         \u001b[0mfig\u001b[0m \u001b[1;33m=\u001b[0m \u001b[0mmodel_1\u001b[0m\u001b[1;33m.\u001b[0m\u001b[0mdraw\u001b[0m\u001b[1;33m(\u001b[0m\u001b[1;33m)\u001b[0m\u001b[1;33m\u001b[0m\u001b[1;33m\u001b[0m\u001b[0m\n\u001b[0;32m      9\u001b[0m     \u001b[1;32mreturn\u001b[0m\u001b[1;33m\u001b[0m\u001b[1;33m\u001b[0m\u001b[0m\n",
      "\u001b[1;32m<ipython-input-10-7b924ff9ded2>\u001b[0m in \u001b[0;36mrun\u001b[1;34m(self)\u001b[0m\n\u001b[0;32m     74\u001b[0m             \u001b[0mI_local_NMDA\u001b[0m\u001b[1;33m[\u001b[0m\u001b[0mi_t\u001b[0m\u001b[1;33m-\u001b[0m\u001b[1;36m1\u001b[0m\u001b[1;33m,\u001b[0m\u001b[1;33m:\u001b[0m\u001b[1;33m,\u001b[0m\u001b[1;33m:\u001b[0m\u001b[1;33m]\u001b[0m \u001b[1;33m=\u001b[0m \u001b[0mJ_NMDA\u001b[0m\u001b[1;33m.\u001b[0m\u001b[0mdot\u001b[0m\u001b[1;33m(\u001b[0m\u001b[0mself\u001b[0m\u001b[1;33m.\u001b[0m\u001b[0mS_NMDA\u001b[0m\u001b[1;33m[\u001b[0m\u001b[0mi_t\u001b[0m\u001b[1;33m-\u001b[0m\u001b[1;36m1\u001b[0m\u001b[1;33m,\u001b[0m\u001b[1;33m:\u001b[0m\u001b[1;33m,\u001b[0m\u001b[1;33m:\u001b[0m\u001b[1;33m]\u001b[0m\u001b[1;33m.\u001b[0m\u001b[0mT\u001b[0m\u001b[1;33m)\u001b[0m\u001b[1;33m.\u001b[0m\u001b[0mT\u001b[0m\u001b[1;33m\u001b[0m\u001b[1;33m\u001b[0m\u001b[0m\n\u001b[0;32m     75\u001b[0m             \u001b[1;31m# local GABA\u001b[0m\u001b[1;33m\u001b[0m\u001b[1;33m\u001b[0m\u001b[1;33m\u001b[0m\u001b[0m\n\u001b[1;32m---> 76\u001b[1;33m             \u001b[0mI_local_GABA\u001b[0m\u001b[1;33m[\u001b[0m\u001b[0mi_t\u001b[0m\u001b[1;33m-\u001b[0m\u001b[1;36m1\u001b[0m\u001b[1;33m,\u001b[0m\u001b[1;33m:\u001b[0m\u001b[1;33m,\u001b[0m\u001b[1;33m:\u001b[0m\u001b[1;33m]\u001b[0m \u001b[1;33m=\u001b[0m \u001b[0mJ_GABA\u001b[0m\u001b[1;33m.\u001b[0m\u001b[0mdot\u001b[0m\u001b[1;33m(\u001b[0m\u001b[0mself\u001b[0m\u001b[1;33m.\u001b[0m\u001b[0mS_GABA\u001b[0m\u001b[1;33m[\u001b[0m\u001b[0mi_t\u001b[0m\u001b[1;33m-\u001b[0m\u001b[1;36m1\u001b[0m\u001b[1;33m,\u001b[0m\u001b[1;33m:\u001b[0m\u001b[1;33m,\u001b[0m\u001b[1;33m:\u001b[0m\u001b[1;33m]\u001b[0m\u001b[1;33m.\u001b[0m\u001b[0mT\u001b[0m\u001b[1;33m)\u001b[0m\u001b[1;33m.\u001b[0m\u001b[0mT\u001b[0m\u001b[1;33m\u001b[0m\u001b[1;33m\u001b[0m\u001b[0m\n\u001b[0m\u001b[0;32m     77\u001b[0m             \u001b[1;31m# Define total input current\u001b[0m\u001b[1;33m\u001b[0m\u001b[1;33m\u001b[0m\u001b[1;33m\u001b[0m\u001b[0m\n\u001b[0;32m     78\u001b[0m             \u001b[0mself\u001b[0m\u001b[1;33m.\u001b[0m\u001b[0mI_total\u001b[0m\u001b[1;33m[\u001b[0m\u001b[0mi_t\u001b[0m\u001b[1;33m-\u001b[0m\u001b[1;36m1\u001b[0m\u001b[1;33m,\u001b[0m\u001b[1;33m:\u001b[0m\u001b[1;33m,\u001b[0m\u001b[1;33m:\u001b[0m\u001b[1;33m]\u001b[0m \u001b[1;33m=\u001b[0m \u001b[0mI_local_NMDA\u001b[0m\u001b[1;33m[\u001b[0m\u001b[0mi_t\u001b[0m\u001b[1;33m-\u001b[0m\u001b[1;36m1\u001b[0m\u001b[1;33m,\u001b[0m\u001b[1;33m:\u001b[0m\u001b[1;33m,\u001b[0m\u001b[1;33m:\u001b[0m\u001b[1;33m]\u001b[0m \u001b[1;33m+\u001b[0m \u001b[0mI_local_grad_NMDA\u001b[0m\u001b[1;33m[\u001b[0m\u001b[0mi_t\u001b[0m\u001b[1;33m-\u001b[0m\u001b[1;36m1\u001b[0m\u001b[1;33m,\u001b[0m\u001b[1;33m:\u001b[0m\u001b[1;33m,\u001b[0m\u001b[1;33m:\u001b[0m\u001b[1;33m]\u001b[0m \u001b[1;33m+\u001b[0m \u001b[0mI_local_GABA\u001b[0m\u001b[1;33m[\u001b[0m\u001b[0mi_t\u001b[0m\u001b[1;33m-\u001b[0m\u001b[1;36m1\u001b[0m\u001b[1;33m,\u001b[0m\u001b[1;33m:\u001b[0m\u001b[1;33m,\u001b[0m\u001b[1;33m:\u001b[0m\u001b[1;33m]\u001b[0m \u001b[1;33m+\u001b[0m \u001b[0mI_0\u001b[0m \u001b[1;33m+\u001b[0m \u001b[0mI_ext\u001b[0m\u001b[1;33m[\u001b[0m\u001b[0mi_t\u001b[0m\u001b[1;33m-\u001b[0m\u001b[1;36m1\u001b[0m\u001b[1;33m,\u001b[0m\u001b[1;33m:\u001b[0m\u001b[1;33m,\u001b[0m\u001b[1;33m:\u001b[0m\u001b[1;33m]\u001b[0m  \u001b[1;33m+\u001b[0m \u001b[0mI_noise\u001b[0m \u001b[1;33m*\u001b[0m \u001b[0mself\u001b[0m\u001b[1;33m.\u001b[0m\u001b[0mparameters\u001b[0m\u001b[1;33m[\u001b[0m\u001b[1;34m'turn_noise'\u001b[0m\u001b[1;33m]\u001b[0m\u001b[1;33m\u001b[0m\u001b[1;33m\u001b[0m\u001b[0m\n",
      "\u001b[1;32m~\\Anaconda4\\lib\\site-packages\\brian2\\units\\fundamentalunits.py\u001b[0m in \u001b[0;36m__setitem__\u001b[1;34m(self, key, value)\u001b[0m\n\u001b[0;32m   1325\u001b[0m         fail_for_dimension_mismatch(self, value,\n\u001b[0;32m   1326\u001b[0m                                     'Inconsistent units in assignment')\n\u001b[1;32m-> 1327\u001b[1;33m         \u001b[1;32mreturn\u001b[0m \u001b[0msuper\u001b[0m\u001b[1;33m(\u001b[0m\u001b[0mQuantity\u001b[0m\u001b[1;33m,\u001b[0m \u001b[0mself\u001b[0m\u001b[1;33m)\u001b[0m\u001b[1;33m.\u001b[0m\u001b[0m__setitem__\u001b[0m\u001b[1;33m(\u001b[0m\u001b[0mkey\u001b[0m\u001b[1;33m,\u001b[0m \u001b[0mvalue\u001b[0m\u001b[1;33m)\u001b[0m\u001b[1;33m\u001b[0m\u001b[1;33m\u001b[0m\u001b[0m\n\u001b[0m\u001b[0;32m   1328\u001b[0m \u001b[1;33m\u001b[0m\u001b[0m\n\u001b[0;32m   1329\u001b[0m     \u001b[1;32mdef\u001b[0m \u001b[0m__setslice__\u001b[0m\u001b[1;33m(\u001b[0m\u001b[0mself\u001b[0m\u001b[1;33m,\u001b[0m \u001b[0mstart\u001b[0m\u001b[1;33m,\u001b[0m \u001b[0mend\u001b[0m\u001b[1;33m,\u001b[0m \u001b[0mvalue\u001b[0m\u001b[1;33m)\u001b[0m\u001b[1;33m:\u001b[0m\u001b[1;33m\u001b[0m\u001b[1;33m\u001b[0m\u001b[0m\n",
      "\u001b[1;31mKeyboardInterrupt\u001b[0m: "
     ]
    }
   ],
   "source": [
    "l = np.arange(0,0.01,0.002)\n",
    "\n",
    "fine_tuning(p_0,l)"
   ]
  },
  {
   "cell_type": "markdown",
   "metadata": {},
   "source": [
    "# Steady states"
   ]
  },
  {
   "cell_type": "code",
   "execution_count": null,
   "metadata": {},
   "outputs": [],
   "source": [
    "area_list = ['Local']"
   ]
  },
  {
   "cell_type": "code",
   "execution_count": null,
   "metadata": {},
   "outputs": [],
   "source": [
    "def steady_state_firing_rate(p):\n",
    "    model = Model(p)\n",
    "    model.run()   \n",
    "    steady_FR = model.R[-1,:,:] # steady state activity rate\n",
    "    return steady_FR"
   ]
  },
  {
   "cell_type": "code",
   "execution_count": null,
   "metadata": {},
   "outputs": [],
   "source": [
    "def st_FR_diff_strength(parameter,stim_list = np.arange(0,0.1,0.02)):\n",
    "    steady_state_firing_rate_list = np.zeros((len(stim_list),1,3)) #UPDATE HERE\n",
    "    for a, alpha in enumerate(stim_list):\n",
    "        print('stim =', alpha)\n",
    "        p = parameter.copy()\n",
    "        p.update({'stim_strength': alpha * brian2.nA})\n",
    "        steady_FR = steady_state_firing_rate(p)\n",
    "        steady_state_firing_rate_list[a,:,:] = steady_FR #UPDATE HERE\n",
    "\n",
    "    return steady_state_firing_rate_list"
   ]
  },
  {
   "cell_type": "code",
   "execution_count": null,
   "metadata": {},
   "outputs": [],
   "source": [
    "#good for different areas\n",
    "def plot_st_FR_strength(stage,steady_state_firing_rate_list,stim_list):\n",
    "    plt.rcParams.update({'font.size': 20})\n",
    "\n",
    "    # generate dataframe\n",
    "    df_st_FR_E1 = pandas.DataFrame(steady_state_firing_rate_list[:,:,0], columns = area_list)\n",
    "    df_st_FR_E2 = pandas.DataFrame(steady_state_firing_rate_list[:,:,1], columns = area_list)\n",
    "    df_st_FR_I  = pandas.DataFrame(steady_state_firing_rate_list[:,:,2], columns = area_list)\n",
    "  \n",
    "    \n",
    "    fig = plt.figure(figsize = (25,16))\n",
    "    for a, alpha in enumerate(stim_list):\n",
    "        plt.plot(df_st_FR_E1.iloc[a,:],label= \"Stimulation strength =  %.3f\".format(alpha), c = cm.Blues(50+a*30), linewidth = 5)\n",
    "\n",
    "    plt.xticks(rotation=90)\n",
    "    plt.ylabel('Steady state firing rate (Hz)')\n",
    "    plt.legend()\n",
    "\n",
    "    for alpha in range(0,len(df_st_FR_E1)):\n",
    "        plt.scatter(np.arange(0,40),df_st_FR_E1.iloc[alpha,:],s = 80,c = cm.Blues(50+alpha*30))\n",
    "\n",
    "    plt.show()\n",
    "    return fig"
   ]
  },
  {
   "cell_type": "code",
   "execution_count": null,
   "metadata": {},
   "outputs": [],
   "source": [
    "stim_list = np.arange(0.03,0.12,0.01)\n",
    "\n",
    "df_st_FR = st_FR_diff_strength(p_0,stim_list)"
   ]
  },
  {
   "cell_type": "code",
   "execution_count": null,
   "metadata": {},
   "outputs": [],
   "source": [
    "def plot_st_FR_E1(df_st_FR, stim_list):\n",
    "    \n",
    "    fig = plt.figure(figsize = (5,5))\n",
    "    df_st_FR_E1 = pandas.DataFrame(df_st_FR[:,:,0])\n",
    "    plt.plot(stim_list,df_st_FR_E1, linewidth=0, marker='x')\n",
    "    plt.xlabel('I_ext (nA)')\n",
    "    plt.ylabel('E1 FR (Hz)')\n",
    "    plt.show()\n",
    "    return fig"
   ]
  },
  {
   "cell_type": "code",
   "execution_count": null,
   "metadata": {},
   "outputs": [],
   "source": [
    "fig = plot_st_FR_E1(df_st_FR, stim_list)"
   ]
  },
  {
   "cell_type": "markdown",
   "metadata": {},
   "source": [
    "### Add distraction"
   ]
  },
  {
   "cell_type": "code",
   "execution_count": null,
   "metadata": {},
   "outputs": [],
   "source": [
    "def st_FR_diff_strength_dist(parameter,stim_list = np.arange(0.03,0.12,0.03), dist_list=np.arange(0,0.3,0.1)):\n",
    "    steady_state_firing_rate_list = np.zeros((len(dist_list),len(stim_list),3)) #UPDATE HERE\n",
    "    for d, delta in enumerate(dist_list):\n",
    "        print('dist_strength = ', delta)\n",
    "        p = parameter.copy()\n",
    "        p.update({'dist_strength' : delta * brian2.nA})\n",
    "        print(p['dist_strength'])\n",
    "        for a, alpha in enumerate(stim_list):\n",
    "            print('stim =', alpha)\n",
    "            p.update({'stim_strength': alpha * brian2.nA})\n",
    "            steady_FR = steady_state_firing_rate(p)\n",
    "            steady_state_firing_rate_list[d,a,:] = steady_FR #UPDATE HERE\n",
    "    return steady_state_firing_rate_list"
   ]
  },
  {
   "cell_type": "code",
   "execution_count": null,
   "metadata": {},
   "outputs": [],
   "source": [
    "stim_list = np.arange(0.03,0.12,0.03)\n",
    "dist_list = np.arange(0,0.2,0.05)\n",
    "\n",
    "df_st_FR = st_FR_diff_strength_dist(p_0,stim_list, dist_list)"
   ]
  },
  {
   "cell_type": "code",
   "execution_count": null,
   "metadata": {},
   "outputs": [],
   "source": [
    "df_st_FR\n"
   ]
  },
  {
   "cell_type": "code",
   "execution_count": null,
   "metadata": {},
   "outputs": [],
   "source": [
    "def plot_FR_diff_strength_dist_E1(df_st_FR, stim_list, dist_list):\n",
    "    fig = plt.figure(figsize = (10,10))\n",
    "    for i in range(len(dist_list)):\n",
    "        df_st_dist_E1 = pandas.DataFrame(df_st_FR[i,:,0])\n",
    "        plt.plot(stim_list,df_st_dist_E1, linewidth=0, marker='o')\n",
    "        plt.xlabel('I_ext (nA)')\n",
    "        plt.ylabel('E1 FR (Hz)')\n",
    "    plt.legend(dist_list)\n",
    "    plt.show()\n",
    "    return "
   ]
  },
  {
   "cell_type": "code",
   "execution_count": null,
   "metadata": {},
   "outputs": [],
   "source": [
    "plot_FR_diff_strength_dist_E1(df_st_FR, stim_list,dist_list)"
   ]
  },
  {
   "cell_type": "code",
   "execution_count": null,
   "metadata": {},
   "outputs": [],
   "source": []
  }
 ],
 "metadata": {
  "kernelspec": {
   "display_name": "Python 3",
   "language": "python",
   "name": "python3"
  },
  "language_info": {
   "codemirror_mode": {
    "name": "ipython",
    "version": 3
   },
   "file_extension": ".py",
   "mimetype": "text/x-python",
   "name": "python",
   "nbconvert_exporter": "python",
   "pygments_lexer": "ipython3",
   "version": "3.7.4"
  }
 },
 "nbformat": 4,
 "nbformat_minor": 2
}
