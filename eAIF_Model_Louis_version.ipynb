{
 "cells": [
  {
   "cell_type": "markdown",
   "metadata": {},
   "source": [
    "# Adaptive Exponential Integrate-and-Fire Model as an Effective Description of Neural Activity"
   ]
  },
  {
   "cell_type": "markdown",
   "metadata": {},
   "source": [
    "## Romain Brette and Wulfram Gerstner, 2005"
   ]
  },
  {
   "cell_type": "markdown",
   "metadata": {},
   "source": [
    "### Presentation and simulation by Louis, Linda and Hector (Master's students at ENS, Paris) 2020"
   ]
  },
  {
   "cell_type": "markdown",
   "metadata": {},
   "source": [
    "$\\textbf{SOP}$\n",
    "\n",
    "The goals of the paper are :\n",
    "1. To develop a 2D adaptive exponential integrate-and-fire model (exponential spike mechanism + an adaptation equation).\n",
    "2. Estimate its paramaters with a systematic method.\n",
    "3. Apply to a detailed conductance-based model of regular spiking neuron.\n"
   ]
  },
  {
   "cell_type": "markdown",
   "metadata": {},
   "source": [
    "The goals of our analysis of the paper are :\n",
    "1. To reproduce faithfully the simulation of the spiking neuron\n",
    "2. Reproduce same performance of prediciton, especially in high-conductance states\n",
    "3. Asses how many electrophysiological classes are well described in vitro by this model, if not, why and how we can modify it to perform better or be applied to more neuronal behaviors.\n"
   ]
  },
  {
   "cell_type": "markdown",
   "metadata": {},
   "source": [
    "Here I try to summary the paper and point out its most unclear points."
   ]
  },
  {
   "cell_type": "code",
   "execution_count": 1,
   "metadata": {},
   "outputs": [],
   "source": [
    "#Libraries\n",
    "import numpy as np\n",
    "import numpy.matlib\n",
    "import brian2"
   ]
  },
  {
   "cell_type": "code",
   "execution_count": 2,
   "metadata": {},
   "outputs": [],
   "source": [
    "#Graphic\n",
    "import matplotlib.pyplot as plt\n",
    "width_in_inches = 12\n",
    "height_in_inches = 8\n",
    "dots_per_inch = 70"
   ]
  },
  {
   "cell_type": "code",
   "execution_count": 3,
   "metadata": {},
   "outputs": [],
   "source": [
    "#plt.rcParams[\"figure.figsize\"] = (15, 7)\n",
    "#plt.rc('xtick',labelsize=20)\n",
    "#plt.rc('ytick',labelsize=20)\n",
    "\n",
    "#title_fontsize = 36\n",
    "#ax_fontsize = 28\n",
    "#label_fontsize = 20"
   ]
  },
  {
   "cell_type": "markdown",
   "metadata": {},
   "source": [
    "## 1. Model introduction"
   ]
  },
  {
   "cell_type": "markdown",
   "metadata": {},
   "source": [
    "$\\textbf{Introdution}$"
   ]
  },
  {
   "cell_type": "markdown",
   "metadata": {},
   "source": [
    "Trying to go beyong the tradition LIF model : quadratic or exponential, inclusion of subthreshold resonances (adaptation), change the stimulation paradigm from current injection to conductance injection (closer to in vivo conditions)."
   ]
  },
  {
   "cell_type": "markdown",
   "metadata": {},
   "source": [
    "20 simulaitons of 15 seconds in NEURON with different set of parameters."
   ]
  },
  {
   "cell_type": "markdown",
   "metadata": {},
   "source": [
    "We introduce the aEIF model :"
   ]
  },
  {
   "cell_type": "markdown",
   "metadata": {},
   "source": [
    "$$C \\frac{dV}{dt} =f(V) - w + I $$"
   ]
  },
  {
   "cell_type": "markdown",
   "metadata": {},
   "source": [
    "$$ r = h(I) $$"
   ]
  },
  {
   "cell_type": "code",
   "execution_count": 4,
   "metadata": {},
   "outputs": [],
   "source": [
    "def V_deriv(V_prev,w_now,input_current,parameters):\n",
    "    \n",
    "    V_new = (1/parameters['C'])*(potential_to_current(V_prev, parameters) - w_now + input_current)\n",
    "    return V_new"
   ]
  },
  {
   "cell_type": "markdown",
   "metadata": {},
   "source": [
    "where C is the membrane capacitance, f(V) is a function that cjracterizes the passive properties and the spiking mechanism, w is an adaptaion variable, and I is the synaptic current."
   ]
  },
  {
   "cell_type": "markdown",
   "metadata": {},
   "source": [
    "And $$ f(V) = - g_L (V - E_L) + g_L \\Delta_T exp(\\frac{V - V_T}{\\Delta_T}) $$"
   ]
  },
  {
   "cell_type": "code",
   "execution_count": 5,
   "metadata": {},
   "outputs": [],
   "source": [
    "def potential_to_current(V, parameters):\n",
    "    return - parameters['g_L']*(V - parameters['E_L']) + parameters['g_L']*parameters['Delta_T']*np.exp((V - parameters['V_T'])/parameters['Delta_T'])"
   ]
  },
  {
   "cell_type": "markdown",
   "metadata": {},
   "source": [
    "where $g_l$ is th eleak conductance, $E_L$ is the resting potential,$\\Delta_T$ is the slope factr, and $V_T$ is the threshold potential."
   ]
  },
  {
   "cell_type": "markdown",
   "metadata": {},
   "source": [
    "At spike time (when $V > V_{peak} = 20 mV$), $ V \\mapsto E_L $ and $ w \\mapsto w + b $"
   ]
  },
  {
   "cell_type": "markdown",
   "metadata": {},
   "source": [
    "The adaptation current w is defined by:"
   ]
  },
  {
   "cell_type": "markdown",
   "metadata": {},
   "source": [
    "$$\\tau_w \\frac{dw}{dt} =a (V - E_L) - w$$"
   ]
  },
  {
   "cell_type": "code",
   "execution_count": 6,
   "metadata": {},
   "outputs": [],
   "source": [
    "def w_deriv(w_prev,V_now,parameters):\n",
    "    \n",
    "    w_new = (1/parameters['tau_w'])*(parameters['a']*(V_now - parameters['E_L']) - w_prev)\n",
    "    return w_new"
   ]
  },
  {
   "cell_type": "markdown",
   "metadata": {},
   "source": [
    "where $\\tau_w$ is the time constant and $a$ represents the level of subthreshold adaptation.\n",
    "\n",
    "Finally, the current $I$ is given by :\n",
    "\n",
    "   $$ I = I_{AMPA} + I_{GABA} + I_{ext} + I_{noise} $$\n",
    "   \n",
    "   Where $ I_{AMPA} $ in an AMPA-dependent excitatory current, $ I_{GABA} $ is a GABA-dependent inhibitory current, $ I_{ext} $ is the injected current, and $ I_{noise} $ a random Gaussian number.\n",
    "   \n",
    "   Furthermore, we have : \n",
    "   \n",
    "   $$ I_{AMPA} = - g_e(t)(V - E_e) \\newline\n",
    "   I_{GABA} = -g_i(t)(V - E_i)$$\n",
    "   \n",
    "   Where $ E_e $ and $ E_i $ are the reversal potentials for the AMPA and GABA currents (respectively). $ g_e(t) $ and  $ g_i(t) $ are respectively the AMPA and GABA conductances and are described by Ornstein-Uhlenbeck processes with respective time constants $ t_e = 2.728 ms $ and $ t_i = 10.49 ms $. "
   ]
  },
  {
   "cell_type": "markdown",
   "metadata": {},
   "source": [
    "As laid out in Destexhe et al., 2001 :\n",
    "$$ \\frac{dg_e(t)}{dt} = - \\frac{1}{\\tau_e}[g_e(t) - g_{e0}] + \\sqrt{D_e}\\chi_1(t) \\newline\n",
    "    \\frac{dg_i(t)}{dt} = - \\frac{1}{\\tau_i}[g_i(t) - g_{i0}] + \\sqrt{D_i}\\chi_2(t) $$\n",
    "    \n",
    "Where $g_{e0} $ and $ g_{i0}$ are average conductances (the mean conductances given in Table 1, simply named $g_e$ and $g_i$ in the Brette & Gerstner), $D_e$ and $D_i$ are noise 'diffusion' coefficients, and $\\chi_1(t)$ and $\\chi_2(t)$ are Gaussian white noise of zero mean and unit standard deviation."
   ]
  },
  {
   "cell_type": "markdown",
   "metadata": {},
   "source": [
    "The update rule for those processes is given by\n",
    "$$g_e(t+h) = g_{e0} + [g_e(t) - g_{e0}]exp(-\\frac{h}{\\tau_e}) + A_eN_1(0,1) \\newline \n",
    "   g_i(t+h) = g_{i0} + [g_i(t) - g_{i0}]exp(-\\frac{h}{\\tau_i}) + A_iN_2(0,1) $$\n",
    "   \n",
    "$ N_i(0, 1) $ and $ N_2(0, 1) $ are normal random numbers (zero mean, unit SD). $ A_e $ and $A_i$ are amplitude coefficients given by :\n",
    "\n",
    "$$ A_e = \\sqrt{\\frac{D_e\\tau_e}{2}[1-exp(\\frac{-2h}{\\tau_e})]} \\newline\n",
    "    A_i = \\sqrt{\\frac{D_i\\tau_i}{2}[1-exp(\\frac{-2h}{\\tau_i})]}$$\n",
    "\n",
    "Finally, the diffusion coefficients are given by :\n",
    "$$D = \\frac{2\\sigma^2}{\\tau}$$"
   ]
  },
  {
   "cell_type": "code",
   "execution_count": 7,
   "metadata": {},
   "outputs": [],
   "source": [
    "def update_g(g_prev, g_type, parameters):\n",
    "    \n",
    "    if g_type =='AMPA':\n",
    "        g_new = parameters['g_AMPA'] + (g_prev - parameters['g_AMPA'])*np.exp(-parameters['dt']/parameters['tau_AMPA']) \\\n",
    "        + parameters['A_AMPA']*np.random.normal(loc=0.0,scale=1.0)\n",
    "        \n",
    "    elif g_type == 'GABA':\n",
    "        g_new = parameters['g_GABA'] + (g_prev - parameters['g_GABA'])*np.exp(-parameters['dt']/parameters['tau_GABA']) \\\n",
    "        + parameters['A_GABA']*np.random.normal(loc=0.0,scale=1.0)\n",
    "    \n",
    "    else :\n",
    "        raise ValueError('g_type must be either AMPA or GABA')\n",
    "    \n",
    "    return g_new"
   ]
  },
  {
   "cell_type": "markdown",
   "metadata": {},
   "source": [
    "## 2. Fitting the parameters"
   ]
  },
  {
   "cell_type": "markdown",
   "metadata": {},
   "source": [
    "In first approximation, we take the parameters as fixed in the paper without any supplementary counter-analysis. Later one, we could fit these parameters by ourselves, but this approach is less interesting to us now, compared to simulating the aEIF correctly."
   ]
  },
  {
   "cell_type": "code",
   "execution_count": 8,
   "metadata": {},
   "outputs": [],
   "source": [
    "parameters = {}\n",
    "    \n",
    "# Physiological parameters\n",
    "parameters.update({ # Conductance\n",
    "                    'C' : 281 *brian2.pF,\n",
    "                    'g_L' : 30 * brian2.nS,\n",
    "                    'g_AMPA': 1/2 * brian2.nS,\n",
    "                    'g_GABA': 2/3 * brian2.nS,\n",
    "                    'sigma_AMPA': 1/3 * brian2.nS,\n",
    "                    'sigma_GABA' : 2/3 * brian2.nS,\n",
    "                    # Reverse potential\n",
    "                    'E_L' : - 70.6 * brian2.mV, #V_reset\n",
    "                    'E_AMPA' : 0 * brian2.mV,\n",
    "                    'E_GABA' : - 75 * brian2.mV,\n",
    "                    # Spike threshold\n",
    "                    'V_T' : - 50.4 * brian2.mV,\n",
    "                    'Delta_T' : 2 * brian2.mV,\n",
    "                    'V_th' : 20 * brian2.mV,\n",
    "                    'V_reset' : - 70.6 * brian2.mV,\n",
    "                    # Time constants\n",
    "                    'tau_w': 144  * brian2.ms,   \n",
    "                    'tau_AMPA' : 2.728 * brian2.ms,\n",
    "                    'tau_GABA' : 10.49 * brian2.ms,\n",
    "                    # Adaptation constants\n",
    "                    'a': 4  * brian2.nS,    \n",
    "                    'b': 0.0805  * brian2.nA})\n",
    "    \n",
    "# Time\n",
    "parameters.update({'dt': 0.5 * brian2.ms}) \n",
    "parameters.update({'trial_length': 1 * brian2.second,\n",
    "                   'start_time': 0 *brian2.second, \n",
    "                   'end_time': 1 *brian2.second}) \n",
    "    \n",
    "# Initial Conditions\n",
    "parameters.update({'V_0' : -60 * brian2.mV,\n",
    "                   'w_0' : 0 * brian2.nA})\n",
    "\n",
    "# Plotting \n",
    "parameters.update({'y_min' : -100 * brian2.mV,\n",
    "                   'y_max' : 0 * brian2.mV})"
   ]
  },
  {
   "cell_type": "markdown",
   "metadata": {},
   "source": [
    "### 2.5. Performance measures"
   ]
  },
  {
   "cell_type": "markdown",
   "metadata": {},
   "source": [
    "We introduce two objective paramaters :\n",
    "     $W$ : percentage of missing spikes and\n",
    "     $E$ : percentage of extra spikes.\n",
    "And we obtain at low values of this estimator, a single performance measure, which is the coincidence factor $\\Gamma$ (Kistler et al., 1997) :\n",
    "    $$ \\Gamma = 1 - (E + M)/2 $$"
   ]
  },
  {
   "cell_type": "code",
   "execution_count": 9,
   "metadata": {},
   "outputs": [],
   "source": [
    "def coincidence(E, M):\n",
    "    return 1 - (E + M)/2"
   ]
  },
  {
   "cell_type": "markdown",
   "metadata": {},
   "source": [
    "## 3. Simulations"
   ]
  },
  {
   "cell_type": "markdown",
   "metadata": {},
   "source": [
    "Simulation and analysis are done with Python on a Jupyter environment on a portable PC."
   ]
  },
  {
   "cell_type": "code",
   "execution_count": 10,
   "metadata": {},
   "outputs": [],
   "source": [
    "class Model(object,):\n",
    "    def __init__(self, parameters,n_trial=1):\n",
    "        self.parameters = parameters.copy()       # Model parameters\n",
    "        self.n_trial = n_trial\n",
    "\n",
    "    def run(self):\n",
    "        self.__init__(self.parameters)\n",
    "       \n",
    "        # Set up simulation parameters\n",
    "        self.dt= self.parameters['dt']   # timestep \n",
    "        self.num_iterations = int(self.parameters['trial_length']/self.dt)\n",
    "        num_iterations =  self.num_iterations\n",
    "        time = np.arange(0, self.parameters['trial_length'], self.parameters['dt'])\n",
    "\n",
    "        # Choose initial values for potential and adaptation variables\n",
    "        self.V_0 = self.parameters['V_0']\n",
    "        self.w_0 = self.parameters['w_0']\n",
    "        \n",
    "        # Preassign potential and adaptation matrices\n",
    "        self.V = np.zeros((num_iterations)) * brian2.mV\n",
    "        self.V[0] = self.V_0\n",
    "        self.w = np.zeros((num_iterations)) * brian2.nA\n",
    "        self.w[0] = self.w_0\n",
    "        \n",
    "        # Choose stimulus strength\n",
    "        stim_strength = self.parameters['stim_strength']\n",
    "        self.stim_on    = self.parameters['stim_on'] \n",
    "        self.stim_off   = self.parameters['stim_off']\n",
    "        \n",
    "        # Preassign external inputs\n",
    "        I_ext      = np.zeros((num_iterations,1)) * brian2.amp\n",
    "        I_ext[int(self.stim_on/self.dt):int(self.stim_off/self.dt),0] = stim_strength\n",
    "    \n",
    "        # Create matrices in which we can store the currents\n",
    "        I_AMPA =  np.zeros((num_iterations)) * brian2.pA\n",
    "        I_GABA =  np.zeros((num_iterations)) * brian2.pA\n",
    "        \n",
    "        # Define the total current I\n",
    "        self.I_total =  np.zeros((num_iterations)) * brian2.pA\n",
    "        \n",
    "        # Define noise \n",
    "        I_noise = 0 * brian2.pA\n",
    "        \n",
    "        # Define the conductance type\n",
    "        if self.parameters['conductance_type'] == 'LC':\n",
    "            self.parameters.update({'g_AMPA':  10 * brian2.nS,\n",
    "                               'g_GABA': 20 * brian2.nS,\n",
    "                               'sigma_AMPA': 10 * brian2.nS,\n",
    "                               'sigma_GABA' : 20 * brian2.nS}) \n",
    "        elif self.parameters['conductance_type'] == 'MC':\n",
    "            self.parameters.update({'g_AMPA': 1/2 * brian2.nS,\n",
    "                               'g_GABA': 3/2 * brian2.nS,\n",
    "                               'sigma_AMPA': 1/2 * brian2.nS,\n",
    "                               'sigma_GABA' : 2/3 * brian2.nS})\n",
    "        elif self.parameters['conductance_type'] == 'HC':\n",
    "            self.parameters.update({'g_AMPA': 1 * brian2.nS,\n",
    "                               'g_GABA': 3 * brian2.nS,\n",
    "                               'sigma_AMPA': 1 * brian2.nS,\n",
    "                               'sigma_GABA' : 1 * brian2.nS})\n",
    "        else:\n",
    "            self.parameters.update({'g_AMPA': 0 * brian2.nS,\n",
    "                               'g_GABA': 0 * brian2.nS,\n",
    "                               'sigma_AMPA': 0 * brian2.nS,\n",
    "                               'sigma_GABA' : 0 * brian2.nS})\n",
    "        \n",
    "        # Compute diffusion coefficients for each conductance\n",
    "        self.parameters.update({'D_AMPA':(2*self.parameters['sigma_AMPA']**2)/self.parameters['tau_AMPA'],\n",
    "                                'D_GABA':(2*self.parameters['sigma_GABA']**2)/self.parameters['tau_GABA']})\n",
    "        \n",
    "        # Compute amplitude coefficients for each conductance \n",
    "        self.parameters.update({'A_AMPA':np.sqrt(((self.parameters['D_AMPA']*self.parameters['tau_AMPA'])/2) * (1-np.exp((-2*self.dt)/self.parameters['tau_AMPA']))),\n",
    "                                'A_GABA':np.sqrt(((self.parameters['D_GABA']*self.parameters['tau_GABA'])/2) * (1-np.exp((-2*self.dt)/self.parameters['tau_GABA'])))})\n",
    "        \n",
    "        # Set the initial conductances : \n",
    "        g_AMPA = self.parameters['g_AMPA']\n",
    "        g_GABA = self.parameters['g_GABA']\n",
    "        \n",
    "        for i_t in range(1,num_iterations):\n",
    "            \n",
    "            # AMPA\n",
    "            I_AMPA[i_t-1] = - g_AMPA*(self.V[i_t-1] - self.parameters['E_AMPA'])\n",
    "            # GABA_A \n",
    "            I_GABA[i_t-1] = - g_GABA*(self.V[i_t-1] - self.parameters['E_GABA'])\n",
    "            # Define total input current \n",
    "            self.I_total[i_t-1] = I_AMPA[i_t-1] + I_GABA[i_t-1] + I_ext[i_t-1] + I_noise\n",
    "            \n",
    "            # Update the conductances \n",
    "            g_AMPA = update_g(g_AMPA, 'AMPA', self.parameters)\n",
    "            g_GABA = update_g(g_GABA, 'GABA', self.parameters)\n",
    "\n",
    "            # Update the adaptation current\n",
    "            if self.V[i_t-1] > self.parameters['V_th']:\n",
    "                self.w[i_t] = self.w[i_t-1] + self.parameters['b']\n",
    "                self.V[i_t] =  self.parameters['V_reset']\n",
    "            else:\n",
    "                self.w[i_t] = self.w[i_t-1] + self.dt*w_deriv(self.w[i_t-1],self.V[i_t-1],self.parameters)\n",
    "                # Update the potential of the two excitatory populations.\n",
    "                self.V[i_t] = self.V[i_t-1] + self.dt*V_deriv(self.V[i_t-1],self.w[i_t], self.I_total[i_t-1],self.parameters)\n",
    "\n",
    "    def draw(self,):\n",
    "        self.__init__(self.parameters)\n",
    "        \n",
    "        fig=plt.figure(figsize=(24,8), dpi= 80, facecolor='w', edgecolor='k')\n",
    "        plt.rcParams.update({'font.size': 12})\n",
    "        ax = plt.subplot(1,2,1)\n",
    "        plt.subplots_adjust(hspace = 1)\n",
    "        # Plot the potential\n",
    "        # plt.plot(np.arange(self.parameters['start_time'],self.parameters['end_time'],self.dt),self.V[np.arange(int(self.parameters['start_time'].item()/self.dt),int(self.parameters['end_time'].item()/self.dt),1)],label = 'V')\n",
    "        plt.plot(np.arange(self.parameters['start_time'],self.parameters['end_time'],self.dt),self.V,label = 'V')\n",
    "        # Plot the adaptation current\n",
    "        #plt.plot(np.arange(self.parameters['start_time'],self.parameters['end_time'],self.dt),self.w[np.arange(int(self.parameters['start_time'].item()/self.dt),int(self.parameters['end_time'].item()/self.dt),1)],label = 'w')\n",
    "        axes = plt.gca()\n",
    "        plt.axvspan(self.stim_on,self.stim_off, alpha=0.1,color='b')\n",
    "        plt.xlabel('time (s)')\n",
    "        plt.ylabel('Potential (mV)')\n",
    "        plt.ylim(self.parameters['y_min'], self.parameters['y_max'])\n",
    "        plt.yticks(np.arange((self.parameters['y_min'] / brian2.mV) / 1000, (self.parameters['y_max'] / brian2.mV) / 1000, 0.02), \n",
    "                   np.arange(self.parameters['y_min'] / brian2.mV, self.parameters['y_max'] / brian2.mV, 20))\n",
    "        plt.legend()\n",
    "        plt.show()"
   ]
  },
  {
   "cell_type": "markdown",
   "metadata": {},
   "source": [
    "## 4. Results"
   ]
  },
  {
   "cell_type": "code",
   "execution_count": 11,
   "metadata": {},
   "outputs": [],
   "source": [
    "p_0 = parameters.copy()\n",
    "\n",
    "p_0.update()\n",
    "\n",
    "p_0.update({'stim_strength':0* brian2.nA,\n",
    "            'stim_on':  0* brian2.second,\n",
    "            'stim_off': 0 * brian2.second,\n",
    "                  })\n",
    "\n",
    "p_0.update({'conductance_type':'LC'})\n",
    "\n",
    "p_0.update({'turn_noise':0\n",
    "                  })\n",
    "\n",
    "p_0.update({'y_min' : -100 * brian2.mV,\n",
    "                   'y_max' : 0 * brian2.mV})"
   ]
  },
  {
   "cell_type": "code",
   "execution_count": 12,
   "metadata": {},
   "outputs": [
    {
     "data": {
      "image/png": "[encoded data removed]",
      "text/plain": [
       "<Figure size 1920x640 with 1 Axes>"
      ]
     },
     "metadata": {},
     "output_type": "display_data"
    }
   ],
   "source": [
    "model_0 = Model(p_0)\n",
    "model_0.run()\n",
    "fig = model_0.draw()"
   ]
  },
  {
   "cell_type": "markdown",
   "metadata": {},
   "source": [
    "the reference neuron model ? (a regular spiking model)"
   ]
  },
  {
   "cell_type": "markdown",
   "metadata": {},
   "source": [
    "### 4.1 Comparison to the reference models (montrer qu'on est meilleur que le modèle de référence)"
   ]
  },
  {
   "cell_type": "markdown",
   "metadata": {},
   "source": [
    "### 4.2 Relevance of model components (faire joujou avec les paramètres, changer les équations)"
   ]
  },
  {
   "cell_type": "markdown",
   "metadata": {},
   "source": [
    "### 4.3 Reliability of the model in a noisy setting (introduire du bruit pour faire genre on est proche de la réalité)"
   ]
  },
  {
   "cell_type": "markdown",
   "metadata": {},
   "source": [
    "## 5. Discussion"
   ]
  },
  {
   "cell_type": "markdown",
   "metadata": {},
   "source": [
    "Compare witht he Izhikevich model (regular spiking, bursting, chattering)"
   ]
  },
  {
   "cell_type": "code",
   "execution_count": 13,
   "metadata": {},
   "outputs": [
    {
     "data": {
      "text/plain": [
       "0.6476344214255164"
      ]
     },
     "execution_count": 13,
     "metadata": {},
     "output_type": "execute_result"
    }
   ],
   "source": [
    "np.random.normal(loc=0.0, scale=1.0)"
   ]
  }
 ],
 "metadata": {
  "kernelspec": {
   "display_name": "Python 3",
   "language": "python",
   "name": "python3"
  },
  "language_info": {
   "codemirror_mode": {
    "name": "ipython",
    "version": 3
   },
   "file_extension": ".py",
   "mimetype": "text/x-python",
   "name": "python",
   "nbconvert_exporter": "python",
   "pygments_lexer": "ipython3",
   "version": "3.9.0"
  }
 },
 "nbformat": 4,
 "nbformat_minor": 4
}
