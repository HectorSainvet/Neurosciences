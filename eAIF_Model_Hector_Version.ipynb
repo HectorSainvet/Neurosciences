{
 "cells": [
  {
   "cell_type": "markdown",
   "metadata": {},
   "source": [
    "# Adaptive Exponential Integrate-and-Fire Model as an Effective Description of Neural Activity"
   ]
  },
  {
   "cell_type": "markdown",
   "metadata": {},
   "source": [
    "## Romain Brette and Wulfram Gerstner, 2005"
   ]
  },
  {
   "cell_type": "markdown",
   "metadata": {},
   "source": [
    "### Presentation and simulation by Louis, Linda and Hector (Master's students at ENS, Paris) 2020"
   ]
  },
  {
   "cell_type": "markdown",
   "metadata": {},
   "source": [
    "$\\textbf{SOP}$\n",
    "\n",
    "The goals of the paper are :\n",
    "1. To develop a 2D adaptive exponential integrate-and-fire model (exponential spike mechanism + an adaptation equation).\n",
    "2. Estimate its paramaters with a systematic method.\n",
    "3. Apply to a detailed conductance-based model of regular spiking neuron.\n"
   ]
  },
  {
   "cell_type": "markdown",
   "metadata": {},
   "source": [
    "The goals of our analysis of the paper are :\n",
    "1. To reproduce faithfully the simulation of the spiking neuron\n",
    "2. Reproduce same performance of prediciton, especially in high-conductance states\n",
    "3. Asses how many electrophysiological classes are well described in vitro by this model, if not, why and how we can modify it to perform better or be applied to more neuronal behaviors.\n"
   ]
  },
  {
   "cell_type": "markdown",
   "metadata": {},
   "source": [
    "Here I try to summary the paper and point out its most unclear points."
   ]
  },
  {
   "cell_type": "code",
   "execution_count": 13,
   "metadata": {},
   "outputs": [],
   "source": [
    "#Libraries\n",
    "import numpy as np\n",
    "import numpy.matlib\n",
    "import brian2"
   ]
  },
  {
   "cell_type": "code",
   "execution_count": 14,
   "metadata": {},
   "outputs": [],
   "source": [
    "#Graphic\n",
    "import matplotlib.pyplot as plt\n",
    "width_in_inches = 12\n",
    "height_in_inches = 8\n",
    "dots_per_inch = 70"
   ]
  },
  {
   "cell_type": "code",
   "execution_count": 15,
   "metadata": {},
   "outputs": [],
   "source": [
    "#plt.rcParams[\"figure.figsize\"] = (15, 7)\n",
    "#plt.rc('xtick',labelsize=20)\n",
    "#plt.rc('ytick',labelsize=20)\n",
    "\n",
    "#title_fontsize = 36\n",
    "#ax_fontsize = 28\n",
    "#label_fontsize = 20"
   ]
  },
  {
   "cell_type": "markdown",
   "metadata": {},
   "source": [
    "## 1. Model introduction"
   ]
  },
  {
   "cell_type": "markdown",
   "metadata": {},
   "source": [
    "$\\textbf{Introdution}$"
   ]
  },
  {
   "cell_type": "markdown",
   "metadata": {},
   "source": [
    "Trying to go beyong the tradition LIF model : quadratic or exponential, inclusion of subthreshold resonances (adaptation), change the stimulation paradigm from current injection to conductance injection (closer to in vivo conditions)."
   ]
  },
  {
   "cell_type": "markdown",
   "metadata": {},
   "source": [
    "20 simulaitons of 15 seconds in NEURON with different set of parameters."
   ]
  },
  {
   "cell_type": "markdown",
   "metadata": {},
   "source": [
    "We introduce the aEIF model :"
   ]
  },
  {
   "cell_type": "markdown",
   "metadata": {},
   "source": [
    "$$C \\frac{dV}{dt} =f(V) - w + I $$"
   ]
  },
  {
   "cell_type": "markdown",
   "metadata": {},
   "source": [
    "$$ r = h(I) $$"
   ]
  },
  {
   "cell_type": "code",
   "execution_count": 16,
   "metadata": {},
   "outputs": [],
   "source": [
    "def V_deriv(V_prev,w_now,input_current,parameters):\n",
    "    \n",
    "    V_new = (1/parameters['C'])*(potential_to_current(V_prev, parameters) - w_now - input_current)\n",
    "    return V_new"
   ]
  },
  {
   "cell_type": "markdown",
   "metadata": {},
   "source": [
    "where C is the membrane capacitance, f(V) is a function that cjracterizes the passive properties and the spiking mechanism, w is an adaptaion variable, and I is the synaptic current."
   ]
  },
  {
   "cell_type": "markdown",
   "metadata": {},
   "source": [
    "And $$ f(V) = - g_L (V - E_L) + g_L \\Delta_T exp(\\frac{V - V_T}{\\Delta_T}) $$"
   ]
  },
  {
   "cell_type": "code",
   "execution_count": 17,
   "metadata": {},
   "outputs": [],
   "source": [
    "def potential_to_current(V, parameters):\n",
    "    return - parameters['g_L']*(V - parameters['E_L']) + parameters['g_L']*parameters['Delta_T']*np.exp((V - parameters['V_T'])/parameters['Delta_T'])"
   ]
  },
  {
   "cell_type": "markdown",
   "metadata": {},
   "source": [
    "where $g_l$ is th eleak conductance, $E_L$ is the resting potential,$\\Delta_T$ is the slope factr, and $V_T$ is the threshold potential."
   ]
  },
  {
   "cell_type": "markdown",
   "metadata": {},
   "source": [
    "At spike time (when $V > V_{peak} = 20 mV$), $ V \\mapsto E_L $ and $ w \\mapsto w + b $"
   ]
  },
  {
   "cell_type": "markdown",
   "metadata": {},
   "source": [
    "The adaptation current w is defined by:"
   ]
  },
  {
   "cell_type": "markdown",
   "metadata": {},
   "source": [
    "$$\\tau_w \\frac{dw}{dt} =a (V - E_L) - w$$"
   ]
  },
  {
   "cell_type": "code",
   "execution_count": 18,
   "metadata": {},
   "outputs": [],
   "source": [
    "def w_deriv(w_prev,V_now,parameters):\n",
    "    \n",
    "    w_new = (1/parameters['tau_w'])*(parameters['a']*(V_now - parameters['E_L']) - w_prev)\n",
    "    return w_new"
   ]
  },
  {
   "cell_type": "markdown",
   "metadata": {},
   "source": [
    "where $\\tau_w$ is the time constant and $a$ represents the level of subthreshold adaptation."
   ]
  },
  {
   "cell_type": "markdown",
   "metadata": {},
   "source": [
    "## 2. Fitting the parameters"
   ]
  },
  {
   "cell_type": "markdown",
   "metadata": {},
   "source": [
    "In first approximation, we take the parameters as fixed in the paper without any supplementary counter-analysis. Later one, we could fit these parameters by ourselves, but this approach is less interesting to us now, compared to simulating the aEIF correctly."
   ]
  },
  {
   "cell_type": "code",
   "execution_count": 19,
   "metadata": {},
   "outputs": [],
   "source": [
    "parameters = {}\n",
    "    \n",
    "# Physiological parameters\n",
    "parameters.update({ # Conductance\n",
    "                    'C' : 281 *brian2.pF,\n",
    "                    'g_L' : 30 * brian2.nS,\n",
    "                    'g_AMPA': 1/2 * brian2.nS,\n",
    "                    'g_GABA': 2/3 * brian2.nS,\n",
    "                    'sigma_AMPA': 1/3 * brian2.nA,\n",
    "                    'sigma_GABA' : 2/3 * brian2.nA,\n",
    "                    # Reverse potential\n",
    "                    'E_L' : - 70.6 * brian2.mV, #V_reset\n",
    "                    'E_AMPA' : 0 * brian2.mV,\n",
    "                    'E_GABA' : - 75 * brian2.mV,\n",
    "                    # Spike threshold\n",
    "                    'V_T' : - 50.4 * brian2.mV,\n",
    "                    'Delta_T' : 2 * brian2.mV,\n",
    "                    'V_th' : 20 * brian2.mV,\n",
    "                    'V_reset' : - 70.6 * brian2.mV,\n",
    "                    # Time constants\n",
    "                    'tau_w': 144   * brian2.ms,   \n",
    "                    'tau_AMPA' : 2.728 * brian2.ms,\n",
    "                    'tau_GABA' : 10.49 * brian2.ms,\n",
    "                    # Adaptation constants\n",
    "                    'a': 4  * brian2.nS,    \n",
    "                    'b': 0.0805  * brian2.nA})\n",
    "    \n",
    "# Time\n",
    "parameters.update({'dt': 0.5 * brian2.ms}) \n",
    "parameters.update({'trial_length': 20 * brian2.second,\n",
    "                   'start_time': 0 *brian2.second, \n",
    "                   'end_time': 20 *brian2.second}) \n",
    "    \n",
    "# Initial Conditions\n",
    "parameters.update({'V_0' : 0 * brian2.mV,\n",
    "                   'w_0' : 0 * brian2.nA})"
   ]
  },
  {
   "cell_type": "code",
   "execution_count": 20,
   "metadata": {},
   "outputs": [],
   "source": [
    "# Synaptic conductances\n",
    "def update_synaptic_conductances(parameters):\n",
    "    if parameters['conductance_type'] == 'LC':\n",
    "        parameters.update({'g_AMPA': 1/2,\n",
    "                           'g_GABA': 2/3,\n",
    "                           'sigma_AMPA': 1/3,\n",
    "                           'sigma_GABA' : 2/3}) \n",
    "    if parameters['conductance_type'] == 'MC':\n",
    "        parameters.update({'g_AMPA': 1/2,\n",
    "                           'g_GABA': 3/2,\n",
    "                           'sigma_AMPA': 1/2,\n",
    "                           'sigma_GABA' : 2/3})\n",
    "    if parameters['conductance_type'] == 'HC':\n",
    "        parameters.update({'g_AMPA': 1,\n",
    "                           'g_GABA': 3,\n",
    "                           'sigma_AMPA': 1/2,\n",
    "                           'sigma_GABA' : 1})\n",
    "    return"
   ]
  },
  {
   "cell_type": "markdown",
   "metadata": {},
   "source": [
    "### 2.5. Performance measures"
   ]
  },
  {
   "cell_type": "markdown",
   "metadata": {},
   "source": [
    "We introduce two objective paramaters :\n",
    "     $W$ : percentage of missing spikes and\n",
    "     $E$ : percentage of extra spikes.\n",
    "And we obtain at low values of this estimator, a single performance measure, which is the coincidence factor $\\Gamma$ (Kistler et al., 1997) :\n",
    "    $$ \\Gamma = 1 - (E + M)/2 $$"
   ]
  },
  {
   "cell_type": "code",
   "execution_count": 21,
   "metadata": {},
   "outputs": [],
   "source": [
    "def coincidence(E, M):\n",
    "    return 1 - (E + M)/2"
   ]
  },
  {
   "cell_type": "markdown",
   "metadata": {},
   "source": [
    "## 3. Simulations"
   ]
  },
  {
   "cell_type": "markdown",
   "metadata": {},
   "source": [
    "Simulation and analysis are done with Python on a Jupyter environment on a portable PC."
   ]
  },
  {
   "cell_type": "code",
   "execution_count": 66,
   "metadata": {},
   "outputs": [],
   "source": [
    "class Model(object,):\n",
    "    def __init__(self, parameter,n_trial=1):\n",
    "        self.parameters = parameter.copy()       # Model parameters\n",
    "        self.n_trial = n_trial\n",
    "\n",
    "    def run(self):\n",
    "        self.__init__(self.parameters)\n",
    "       \n",
    "        # Set up simulation parameters\n",
    "        self.dt= self.parameters['dt']   # timestep \n",
    "        self.num_iterations = int(self.parameters['trial_length']/self.dt)\n",
    "        num_iterations =  self.num_iterations\n",
    "        time = np.arange(0, self.parameters['trial_length'], self.parameters['dt'])\n",
    "\n",
    "        # Choose initial values for potential and adaptation variables\n",
    "        self.V_0 = self.parameters['V_0']\n",
    "        self.w_0 = self.parameters['w_0']\n",
    "        \n",
    "        # Preassign potential and adaptation matrices\n",
    "        self.V = np.zeros((num_iterations)) * brian2.mV\n",
    "        self.V[0] = self.V_0\n",
    "        self.w = np.zeros((num_iterations)) * brian2.nA\n",
    "        self.w[0] = self.w_0\n",
    "        \n",
    "        # Choose stimulus strength\n",
    "        stim_strength = self.parameters['stim_strength']\n",
    "        self.stim_on    = self.parameters['stim_on'] \n",
    "        self.stim_off   = self.parameters['stim_off']\n",
    "        \n",
    "        # Preassign external inputs\n",
    "        I_ext      = np.zeros((num_iterations,1)) * brian2.amp\n",
    "        I_ext[int(self.stim_on/self.dt):int(self.stim_off/self.dt),0] = stim_strength\n",
    "    \n",
    "        # Create matrices in which we can store the currents\n",
    "        I_AMPA =  np.zeros((num_iterations)) * brian2.pA\n",
    "        I_GABA =  np.zeros((num_iterations)) * brian2.pA\n",
    "        \n",
    "        # Define background inputs\n",
    "        I_0 = 0 * brian2.pA\n",
    "        \n",
    "        # NOISE\n",
    "        eta = np.random.normal(loc=0.0, scale=1.0, size=(num_iterations))\n",
    "        noise_AMPA = eta*((np.sqrt(self.parameters['tau_AMPA']*np.power(self.parameters['sigma_AMPA'],2))*np.sqrt(self.dt))/self.parameters['tau_AMPA'])\n",
    "        noise_GABA = eta*((np.sqrt(self.parameters['tau_GABA']*np.power(self.parameters['sigma_GABA'],2))*np.sqrt(self.dt))/self.parameters['tau_GABA'])\n",
    "        I_noise_AMPA = 0 *brian2.pA\n",
    "        I_noise_GABA = 0 *brian2.pA\n",
    "        I_noise = 0 *brian2.pA\n",
    "        \n",
    "        # Define the total current I\n",
    "        self.I_total =  np.zeros((num_iterations)) * brian2.pA\n",
    "        \n",
    "        # Define the conductance type\n",
    "        #update_synaptic_conductances(self.parameters)\n",
    "        if self.parameters['conductance_type'] == 'LC':\n",
    "            self.parameters.update({'g_AMPA': 1/2 * brian2.nS,\n",
    "                               'g_GABA': 2/3 * brian2.nS,\n",
    "                               'sigma_AMPA': 1/3 * brian2.nA,\n",
    "                               'sigma_GABA' : 2/3 * brian2.nA}) \n",
    "        if self.parameters['conductance_type'] == 'MC':\n",
    "            self.parameters.update({'g_AMPA': 1/2 * brian2.nS,\n",
    "                               'g_GABA': 3/2 * brian2.nS,\n",
    "                               'sigma_AMPA': 1/2 * brian2.nA,\n",
    "                               'sigma_GABA' : 2/3 * brian2.nA})\n",
    "        if self.parameters['conductance_type'] == 'HC':\n",
    "            self.parameters.update({'g_AMPA': 1 * brian2.nS,\n",
    "                               'g_GABA': 3 * brian2.nS,\n",
    "                               'sigma_AMPA': 1/2 * brian2.nA,\n",
    "                               'sigma_GABA' : 1 * brian2.nA})\n",
    "        \n",
    "        for i_t in range(1,num_iterations):\n",
    "            \n",
    "            I_noise_AMPA = I_noise_AMPA + -I_noise_AMPA*(self.dt/self.parameters['tau_AMPA']) + noise_AMPA[i_t-1]\n",
    "            I_noise_GABA = I_noise_GABA + -I_noise_GABA*(self.dt/self.parameters['tau_GABA']) + noise_GABA[i_t-1]\n",
    "            I_noise = I_noise_AMPA + I_noise_GABA\n",
    "            # AMPA\n",
    "            I_AMPA[i_t-1] = - self.parameters['g_AMPA']*(self.V[i_t-1] - self.parameters['E_AMPA'])\n",
    "            # GABA_A \n",
    "            I_GABA[i_t-1] = - self.parameters['g_GABA']*(self.V[i_t-1] - self.parameters['E_GABA'])\n",
    "            # Define total input current \n",
    "            self.I_total[i_t-1] = I_AMPA[i_t-1] + I_GABA[i_t-1] + I_noise + I_0 + I_ext[i_t-1]\n",
    "\n",
    "            # Update the adaptation current\n",
    "            if self.V[i_t-1] > self.parameters['V_th']:\n",
    "                self.w[i_t] = self.w[i_t-1] + self.parameters['b']\n",
    "                self.V[i_t] =  self.parameters['E_L']\n",
    "            else:\n",
    "                self.w[i_t] = self.w[i_t-1] + self.dt*w_deriv(self.w[i_t-1],self.V[i_t-1],self.parameters)\n",
    "                # Update the potential of the two excitatory populations.\n",
    "                self.V[i_t] = self.V[i_t-1] + self.dt*V_deriv(self.V[i_t-1],self.w[i_t], self.I_total[i_t-1],self.parameters)\n",
    "\n",
    "    def draw(self,):\n",
    "        self.__init__(self.parameters)\n",
    "        \n",
    "        fig=plt.figure(figsize=(16,8), dpi= 80, facecolor='w', edgecolor='k')\n",
    "        plt.rcParams.update({'font.size': 12})\n",
    "        ax = plt.subplot(1,2,1)\n",
    "        plt.subplots_adjust(hspace = 1)\n",
    "        # Plot the potential\n",
    "        plt.plot(np.arange(self.parameters['start_time'],self.parameters['end_time'],self.dt),self.V[np.arange(int(self.parameters['start_time'].item()/self.dt),int(self.parameters['end_time'].item()/self.dt),1)],label = 'V')\n",
    "        # Plot the adaptation current\n",
    "        #plt.plot(np.arange(self.parameters['start_time'],self.parameters['end_time'],self.dt),self.w[np.arange(int(self.parameters['start_time'].item()/self.dt),int(self.parameters['end_time'].item()/self.dt),1)],label = 'w')\n",
    "        axes = plt.gca()\n",
    "        plt.axvspan(self.stim_on,self.stim_off, alpha=0.1,color='b')\n",
    "        plt.xlabel('time (s)')\n",
    "        plt.ylabel('Potential (mV)')\n",
    "        plt.ylim(-10,10)\n",
    "        plt.legend()\n",
    "        plt.show()"
   ]
  },
  {
   "cell_type": "markdown",
   "metadata": {},
   "source": [
    "## 4. Results"
   ]
  },
  {
   "cell_type": "code",
   "execution_count": 69,
   "metadata": {},
   "outputs": [],
   "source": [
    "p_0 = parameters.copy()\n",
    "\n",
    "p_0.update({'stim_strength':0* brian2.nA,\n",
    "            'stim_on': 2 * brian2.second,\n",
    "            'stim_off': 2 * brian2.second,\n",
    "                  })\n",
    "\n",
    "p_0.update({'conductance_type':'MC'})\n",
    "\n",
    "p_0.update({'turn_noise':0\n",
    "                  })"
   ]
  },
  {
   "cell_type": "code",
   "execution_count": 70,
   "metadata": {},
   "outputs": [
    {
     "data": {
      "image/png": "[encoded data removed]",
      "text/plain": [
       "<Figure size 1280x640 with 1 Axes>"
      ]
     },
     "metadata": {},
     "output_type": "display_data"
    }
   ],
   "source": [
    "model_0 = Model(p_0)\n",
    "model_0.run()\n",
    "fig = model_0.draw()"
   ]
  },
  {
   "cell_type": "markdown",
   "metadata": {},
   "source": [
    "the reference neuron model ? (a regular spiking model)"
   ]
  },
  {
   "cell_type": "markdown",
   "metadata": {},
   "source": [
    "### 4.1 Comparison to the reference models (montrer qu'on est meilleur que le modèle de référence)"
   ]
  },
  {
   "cell_type": "markdown",
   "metadata": {},
   "source": [
    "### 4.2 Relevance of model components (faire joujou avec les paramètres, changer les équations)"
   ]
  },
  {
   "cell_type": "markdown",
   "metadata": {},
   "source": [
    "### 4.3 Reliability of the model in a noisy setting (introduire du bruit pour faire genre on est proche de la réalité)"
   ]
  },
  {
   "cell_type": "markdown",
   "metadata": {},
   "source": [
    "## 5. Discussion"
   ]
  },
  {
   "cell_type": "markdown",
   "metadata": {},
   "source": [
    "Compare witht he Izhikevich model (regular spiking, bursting, chattering)"
   ]
  }
 ],
 "metadata": {
  "kernelspec": {
   "display_name": "Python 3",
   "language": "python",
   "name": "python3"
  },
  "language_info": {
   "codemirror_mode": {
    "name": "ipython",
    "version": 3
   },
   "file_extension": ".py",
   "mimetype": "text/x-python",
   "name": "python",
   "nbconvert_exporter": "python",
   "pygments_lexer": "ipython3",
   "version": "3.7.4"
  }
 },
 "nbformat": 4,
 "nbformat_minor": 2
}
