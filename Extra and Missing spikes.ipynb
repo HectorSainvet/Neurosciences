{
 "cells": [
  {
   "cell_type": "code",
   "execution_count": null,
   "metadata": {},
   "outputs": [],
   "source": [
    "import numpy as np"
   ]
  },
  {
   "cell_type": "code",
   "execution_count": 9,
   "metadata": {},
   "outputs": [],
   "source": [
    "A = [0, 3, 7, 19, 25, 67, 101, 101.2, 110]\n",
    "B = [0, 3, 10, 19, 23, 68, 69, 101, 101.2, 110]\n",
    "\n",
    "E = 0\n",
    "M = 0"
   ]
  },
  {
   "cell_type": "code",
   "execution_count": 10,
   "metadata": {},
   "outputs": [
    {
     "data": {
      "text/plain": [
       "(0, 0)"
      ]
     },
     "execution_count": 10,
     "metadata": {},
     "output_type": "execute_result"
    }
   ],
   "source": [
    "def sliding_window (seq_a, seq_b, start, stop, stepSize, windowSize):\n",
    "    \n",
    "    for i in range(start, stop, stepSize):\n",
    "        window_a = seq_a[start:start + windowSize]\n",
    "    \n",
    "    for i in range(start, stop, stepSize):\n",
    "        window_b = seq_b[start:start + windowSize]\n",
    "        \n",
    "    if len(window_a) > len(window_b):\n",
    "        global E\n",
    "        E += 1 \n",
    "    \n",
    "    elif len(window_b) > len(window_a):\n",
    "        global M\n",
    "        M += 1 \n",
    "        \n",
    "    else: \n",
    "        pass\n",
    "    \n",
    "    return (E, M)\n",
    "\n",
    "sliding_window(A, B, 0, 5, 1, 2)"
   ]
  }
 ],
 "metadata": {
  "kernelspec": {
   "display_name": "Python 3",
   "language": "python",
   "name": "python3"
  },
  "language_info": {
   "codemirror_mode": {
    "name": "ipython",
    "version": 3
   },
   "file_extension": ".py",
   "mimetype": "text/x-python",
   "name": "python",
   "nbconvert_exporter": "python",
   "pygments_lexer": "ipython3",
   "version": "3.7.4"
  }
 },
 "nbformat": 4,
 "nbformat_minor": 2
}
