{
 "cells": [
  {
   "cell_type": "markdown",
   "metadata": {},
   "source": [
    "This is my first version of EC-DG-CA3 network. Hector Sainvet, April 2022.\n",
    "\n",
    "Local (not large-scale model)"
   ]
  },
  {
   "cell_type": "code",
   "execution_count": 1,
   "metadata": {},
   "outputs": [],
   "source": [
    "# libraries\n",
    "import numpy as np\n",
    "import numpy.matlib\n",
    "import pandas \n",
    "import brian2\n",
    "import watermark\n",
    "\n",
    "import os"
   ]
  },
  {
   "cell_type": "code",
   "execution_count": 2,
   "metadata": {},
   "outputs": [],
   "source": [
    "#Graphic\n",
    "import matplotlib.pyplot as plt\n",
    "from matplotlib import cm\n",
    "width_in_inches = 12\n",
    "height_in_inches = 8\n",
    "dots_per_inch = 70"
   ]
  },
  {
   "cell_type": "markdown",
   "metadata": {},
   "source": [
    "# Parameters"
   ]
  },
  {
   "cell_type": "code",
   "execution_count": 3,
   "metadata": {},
   "outputs": [],
   "source": [
    "parameters = {}\n",
    "\n",
    "#Number of cells\n",
    "parameters['n_mEC'] = 50000\n",
    "parameters['n_DG'] = 500000\n",
    "parameters['n_CA3'] = 200000\n",
    "parameters['n_IN'] = 2500\n",
    "\n",
    "#Connectivity\n",
    "parameters['c_EI']= 0.1\n",
    "parameters['c_IE']= 0.3\n",
    "parameters['sigma_EI']= 150 * 10^(-6) \n",
    "parameters['sigma_IE'] = 300 * 10^(-6) \n",
    "parameters['J_EI'] = 8 * 10^(-9) \n",
    "parameters['J_IE'] = 0.0025 #normalized ?"
   ]
  },
  {
   "cell_type": "markdown",
   "metadata": {},
   "source": [
    "### Time"
   ]
  },
  {
   "cell_type": "code",
   "execution_count": 4,
   "metadata": {},
   "outputs": [],
   "source": [
    "parameters.update({ 'dt' : 0.5 * brian2.ms,  # timestep \n",
    "                    'trial_length' : 6000 * brian2.ms, # trial length (s),\n",
    "                   'start_time': 0 *brian2.second, # s\n",
    "                   'end_time': 10 *brian2.second}) "
   ]
  },
  {
   "cell_type": "markdown",
   "metadata": {},
   "source": [
    "# Physiology"
   ]
  },
  {
   "cell_type": "markdown",
   "metadata": {},
   "source": [
    "Define the function that transforms input current to changes in firing rate for excitatory neurons (Abbott and Chance, 2005). \n",
    "<br>\n",
    "$$r_E = \\frac{aI_{syn,E} - b}{1 - e^{-d(aI_{syn,E} - b)}} $$\n",
    "\n",
    "Update the firing rates of the interneurons using a threshold linear input/output function\n",
    "$$ \\begin{cases}\n",
    "  r_I = \\frac{1}{g_2}(c_II_{syn,I} - c_0) + r_0 & \\text{for } r_I\\ge 0\\\\    \n",
    "  r_I = 0     & \\text{otherwise }  \n",
    "\\end{cases} $$"
   ]
  },
  {
   "cell_type": "code",
   "execution_count": 5,
   "metadata": {},
   "outputs": [],
   "source": [
    "def current_to_frequency(input_current,population_type,parameters):\n",
    "    if population_type == 'E':\n",
    "        a = parameters['a_E']\n",
    "        b = parameters['b_E']\n",
    "        d = parameters['d_E']\n",
    "        return np.divide((a*input_current - b),(1 - np.exp(-d*(a*input_current - b))))\n",
    "    if population_type == 'I':\n",
    "        c_I = parameters['c_I']\n",
    "        g_2 = parameters['g_2']\n",
    "        r_0 = parameters['r0_I']\n",
    "        c_0 = parameters['c_0']\n",
    "        r = np.maximum((1/g_2)*(c_I*input_current - c_0) + r_0,0)\n",
    "        return r\n",
    "        # NOTE: using python broadcasting for ones subtraction, so should work for multi-area case too"
   ]
  },
  {
   "cell_type": "markdown",
   "metadata": {},
   "source": [
    "# Connectivity"
   ]
  },
  {
   "cell_type": "code",
   "execution_count": 6,
   "metadata": {},
   "outputs": [],
   "source": [
    "area_list = ['mEC','DG','CA3','PV']\n",
    "area_column_list  = ['from '+ mystring for mystring in area_list]\n",
    "area_row_list  = ['to '+ mystring for mystring in area_list]"
   ]
  },
  {
   "cell_type": "markdown",
   "metadata": {},
   "source": [
    "Parameters from Guzman et al., 2021."
   ]
  },
  {
   "cell_type": "code",
   "execution_count": 7,
   "metadata": {},
   "outputs": [
    {
     "data": {
      "text/html": [
       "<div>\n",
       "<style scoped>\n",
       "    .dataframe tbody tr th:only-of-type {\n",
       "        vertical-align: middle;\n",
       "    }\n",
       "\n",
       "    .dataframe tbody tr th {\n",
       "        vertical-align: top;\n",
       "    }\n",
       "\n",
       "    .dataframe thead th {\n",
       "        text-align: right;\n",
       "    }\n",
       "</style>\n",
       "<table border=\"1\" class=\"dataframe\">\n",
       "  <thead>\n",
       "    <tr style=\"text-align: right;\">\n",
       "      <th></th>\n",
       "      <th>from mEC</th>\n",
       "      <th>from DG</th>\n",
       "      <th>from CA3</th>\n",
       "      <th>to IN</th>\n",
       "    </tr>\n",
       "  </thead>\n",
       "  <tbody>\n",
       "    <tr>\n",
       "      <td>to mEC</td>\n",
       "      <td>0.000000e+00</td>\n",
       "      <td>0.000000e+00</td>\n",
       "      <td>0.0</td>\n",
       "      <td>0.000000e+00</td>\n",
       "    </tr>\n",
       "    <tr>\n",
       "      <td>to DG</td>\n",
       "      <td>2.000000e-10</td>\n",
       "      <td>0.000000e+00</td>\n",
       "      <td>0.0</td>\n",
       "      <td>-7.500000e-11</td>\n",
       "    </tr>\n",
       "    <tr>\n",
       "      <td>to CA3</td>\n",
       "      <td>0.000000e+00</td>\n",
       "      <td>5.000000e-11</td>\n",
       "      <td>0.0</td>\n",
       "      <td>0.000000e+00</td>\n",
       "    </tr>\n",
       "    <tr>\n",
       "      <td>to IN</td>\n",
       "      <td>0.000000e+00</td>\n",
       "      <td>5.000000e-11</td>\n",
       "      <td>0.0</td>\n",
       "      <td>0.000000e+00</td>\n",
       "    </tr>\n",
       "  </tbody>\n",
       "</table>\n",
       "</div>"
      ],
      "text/plain": [
       "            from mEC       from DG  from CA3         to IN\n",
       "to mEC  0.000000e+00  0.000000e+00       0.0  0.000000e+00\n",
       "to DG   2.000000e-10  0.000000e+00       0.0 -7.500000e-11\n",
       "to CA3  0.000000e+00  5.000000e-11       0.0  0.000000e+00\n",
       "to IN   0.000000e+00  5.000000e-11       0.0  0.000000e+00"
      ]
     },
     "execution_count": 7,
     "metadata": {},
     "output_type": "execute_result"
    }
   ],
   "source": [
    "# Synaptic strengths from E cells\n",
    "g_mEC_DG    = 200 * brian2.pA      \n",
    "g_DG_CA3   = 50 * brian2.pA\n",
    "g_DG_IN   = 50 * brian2.pA\n",
    "\n",
    "\n",
    "# Synaptic strengths from PV cells\n",
    "g_IN_DG    = - 75 * brian2.pA                                           \n",
    "\n",
    "# Synaptic strengths from SST cells\n",
    "g_PV_SST     = -100 * brian2.pA  \n",
    "\n",
    "\n",
    "# put values into connectivity matrix\n",
    "J = np.array([[0,            g_mEC_DG, 0,0],\n",
    "              [0,    0 , g_DG_CA3 ,g_DG_IN],\n",
    "               [0,   0  , 0,0],\n",
    "              [0,   g_IN_DG        , 0,0]]) * brian2.amp\n",
    "\n",
    "J = J.transpose()\n",
    "\n",
    "J_NMDA = J*((J>0).astype(np.int))\n",
    "J_GABA = J*((J<0).astype(np.int))\n",
    "\n",
    "row_labels = ['to mEC', 'to DG','to CA3', 'to IN']\n",
    "column_labels = ['from mEC', 'from DG','from CA3', 'to IN']\n",
    "\n",
    "df_all = pandas.DataFrame(J, columns=column_labels, index=row_labels)\n",
    "\n",
    "df_all"
   ]
  },
  {
   "cell_type": "markdown",
   "metadata": {},
   "source": [
    "# Input"
   ]
  },
  {
   "cell_type": "code",
   "execution_count": 8,
   "metadata": {},
   "outputs": [],
   "source": [
    "# Random"
   ]
  },
  {
   "cell_type": "code",
   "execution_count": 9,
   "metadata": {},
   "outputs": [],
   "source": [
    "def generate_random_inputs(N):\n",
    "    return np.random.choice([-1,1], size = (N,))"
   ]
  },
  {
   "cell_type": "code",
   "execution_count": 10,
   "metadata": {},
   "outputs": [],
   "source": [
    "# Ecological"
   ]
  },
  {
   "cell_type": "code",
   "execution_count": 11,
   "metadata": {},
   "outputs": [],
   "source": [
    "?"
   ]
  },
  {
   "cell_type": "markdown",
   "metadata": {},
   "source": [
    "# Model"
   ]
  },
  {
   "cell_type": "code",
   "execution_count": 12,
   "metadata": {},
   "outputs": [],
   "source": [
    "class Model():\n",
    "    def __init__(self,parameter):\n",
    "        self.parameters = parameter.copy()\n",
    "    \n",
    "    def run(self):\n",
    "        self.__init__(self.parameters)\n",
    "        \n",
    "        #Time\n",
    "        self.dt= self.parameters['dt']  \n",
    "        self.num_iterations = int(self.parameters['trial_length']/self.dt)\n",
    "        return\n",
    "    \n",
    "    def plot(self):\n",
    "        return"
   ]
  },
  {
   "cell_type": "markdown",
   "metadata": {},
   "source": [
    "# Trials"
   ]
  },
  {
   "cell_type": "code",
   "execution_count": 13,
   "metadata": {},
   "outputs": [],
   "source": [
    "os.chdir(r\"C:\\Users\\Hector\\Documents\\PhD\\Stage_Fig\")"
   ]
  },
  {
   "cell_type": "code",
   "execution_count": 26,
   "metadata": {},
   "outputs": [
    {
     "ename": "KeyError",
     "evalue": "'dt'",
     "output_type": "error",
     "traceback": [
      "\u001b[1;31m---------------------------------------------------------------------------\u001b[0m",
      "\u001b[1;31mKeyError\u001b[0m                                  Traceback (most recent call last)",
      "\u001b[1;32m<ipython-input-26-78e6a25d2615>\u001b[0m in \u001b[0;36m<module>\u001b[1;34m\u001b[0m\n\u001b[0;32m      5\u001b[0m \u001b[1;33m\u001b[0m\u001b[0m\n\u001b[0;32m      6\u001b[0m \u001b[0mmodel_0\u001b[0m \u001b[1;33m=\u001b[0m \u001b[0mModel\u001b[0m\u001b[1;33m(\u001b[0m\u001b[0mp_0\u001b[0m\u001b[1;33m)\u001b[0m\u001b[1;33m\u001b[0m\u001b[1;33m\u001b[0m\u001b[0m\n\u001b[1;32m----> 7\u001b[1;33m \u001b[0mmodel_0\u001b[0m\u001b[1;33m.\u001b[0m\u001b[0mrun\u001b[0m\u001b[1;33m(\u001b[0m\u001b[1;33m)\u001b[0m\u001b[1;33m\u001b[0m\u001b[1;33m\u001b[0m\u001b[0m\n\u001b[0m\u001b[0;32m      8\u001b[0m \u001b[0mfig\u001b[0m \u001b[1;33m=\u001b[0m \u001b[0mmodel_0\u001b[0m\u001b[1;33m.\u001b[0m\u001b[0mdraw_selected\u001b[0m\u001b[1;33m(\u001b[0m\u001b[1;33m)\u001b[0m\u001b[1;33m\u001b[0m\u001b[1;33m\u001b[0m\u001b[0m\n\u001b[0;32m      9\u001b[0m \u001b[0mfig\u001b[0m\u001b[1;33m.\u001b[0m\u001b[0msavefig\u001b[0m\u001b[1;33m(\u001b[0m\u001b[0msave_name\u001b[0m\u001b[1;33m)\u001b[0m\u001b[1;33m\u001b[0m\u001b[1;33m\u001b[0m\u001b[0m\n",
      "\u001b[1;32m<ipython-input-2-87f665896530>\u001b[0m in \u001b[0;36mrun\u001b[1;34m(self)\u001b[0m\n\u001b[0;32m      7\u001b[0m \u001b[1;33m\u001b[0m\u001b[0m\n\u001b[0;32m      8\u001b[0m         \u001b[1;31m#Time\u001b[0m\u001b[1;33m\u001b[0m\u001b[1;33m\u001b[0m\u001b[1;33m\u001b[0m\u001b[0m\n\u001b[1;32m----> 9\u001b[1;33m         \u001b[0mself\u001b[0m\u001b[1;33m.\u001b[0m\u001b[0mdt\u001b[0m\u001b[1;33m=\u001b[0m \u001b[0mself\u001b[0m\u001b[1;33m.\u001b[0m\u001b[0mparameters\u001b[0m\u001b[1;33m[\u001b[0m\u001b[1;34m'dt'\u001b[0m\u001b[1;33m]\u001b[0m\u001b[1;33m\u001b[0m\u001b[1;33m\u001b[0m\u001b[0m\n\u001b[0m\u001b[0;32m     10\u001b[0m         \u001b[0mself\u001b[0m\u001b[1;33m.\u001b[0m\u001b[0mnum_iterations\u001b[0m \u001b[1;33m=\u001b[0m \u001b[0mint\u001b[0m\u001b[1;33m(\u001b[0m\u001b[0mself\u001b[0m\u001b[1;33m.\u001b[0m\u001b[0mparameters\u001b[0m\u001b[1;33m[\u001b[0m\u001b[1;34m'trial_length'\u001b[0m\u001b[1;33m]\u001b[0m\u001b[1;33m/\u001b[0m\u001b[0mself\u001b[0m\u001b[1;33m.\u001b[0m\u001b[0mdt\u001b[0m\u001b[1;33m)\u001b[0m\u001b[1;33m\u001b[0m\u001b[1;33m\u001b[0m\u001b[0m\n\u001b[0;32m     11\u001b[0m         \u001b[1;32mreturn\u001b[0m\u001b[1;33m\u001b[0m\u001b[1;33m\u001b[0m\u001b[0m\n",
      "\u001b[1;31mKeyError\u001b[0m: 'dt'"
     ]
    }
   ],
   "source": [
    "save_name = 'bc_selected_distraction_0.pdf'\n",
    "\n",
    "\n",
    "p_0 = parameters.copy()\n",
    "\n",
    "model_0 = Model(p_0)\n",
    "model_0.run()\n",
    "fig = model_0.draw_selected()\n",
    "fig.savefig(save_name)"
   ]
  },
  {
   "cell_type": "code",
   "execution_count": null,
   "metadata": {},
   "outputs": [],
   "source": []
  }
 ],
 "metadata": {
  "kernelspec": {
   "display_name": "Python 3",
   "language": "python",
   "name": "python3"
  },
  "language_info": {
   "codemirror_mode": {
    "name": "ipython",
    "version": 3
   },
   "file_extension": ".py",
   "mimetype": "text/x-python",
   "name": "python",
   "nbconvert_exporter": "python",
   "pygments_lexer": "ipython3",
   "version": "3.7.4"
  }
 },
 "nbformat": 4,
 "nbformat_minor": 4
}
