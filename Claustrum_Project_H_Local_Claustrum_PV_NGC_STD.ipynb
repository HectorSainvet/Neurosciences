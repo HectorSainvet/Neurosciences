{
 "cells": [
  {
   "cell_type": "markdown",
   "metadata": {},
   "source": [
    "\n",
    "1 cortical area + 1 claustrum. Hector June 2020\n"
   ]
  },
  {
   "cell_type": "markdown",
   "metadata": {},
   "source": [
    "# NPY and PV + STD\n"
   ]
  },
  {
   "cell_type": "code",
   "execution_count": 1,
   "metadata": {},
   "outputs": [],
   "source": [
    "# libraries\n",
    "import numpy as np\n",
    "import numpy.matlib\n",
    "import pandas \n",
    "import brian2\n",
    "import watermark"
   ]
  },
  {
   "cell_type": "code",
   "execution_count": 2,
   "metadata": {},
   "outputs": [],
   "source": [
    "#Graphic\n",
    "import matplotlib.pyplot as plt\n",
    "from matplotlib import cm\n",
    "width_in_inches = 12\n",
    "height_in_inches = 8\n",
    "dots_per_inch = 70"
   ]
  },
  {
   "cell_type": "markdown",
   "metadata": {},
   "source": [
    "# 1. Theory\n"
   ]
  },
  {
   "cell_type": "markdown",
   "metadata": {},
   "source": [
    "I define the function that transforms input current to changes in firing rate for excitatory neurons (Abbott and Chance, 2005). \n",
    "<br>\n",
    "$$r_E = \\frac{aI_{syn,E} - b}{1 - e^{-d(aI_{syn,E} - b)}} $$\n",
    "\n",
    "Update the firing rates of the interneurons using a threshold linear input/output function\n",
    "$$ \\begin{cases}\n",
    "  r_I = \\frac{1}{g_2}(c_II_{syn,I} - c_0) + r_0 & \\text{for } r_I\\ge 0\\\\    \n",
    "  r_I = 0     & \\text{otherwise }  \n",
    "\\end{cases} $$"
   ]
  },
  {
   "cell_type": "code",
   "execution_count": 3,
   "metadata": {},
   "outputs": [],
   "source": [
    "def current_to_frequency(input_current,population_type,parameters):\n",
    "    if population_type == 'E':\n",
    "        a = parameters['a_E']\n",
    "        b = parameters['b_E']\n",
    "        d = parameters['d_E']\n",
    "        return np.divide((a*input_current - b),(1 - np.exp(-d*(a*input_current - b))))\n",
    "    if population_type == 'I':\n",
    "        c_I = parameters['c_I']\n",
    "        g_2 = parameters['g_2']\n",
    "        r_0 = parameters['r0_I']\n",
    "        c_0 = parameters['c_0']\n",
    "        r = np.maximum((1/g_2)*(c_I*input_current - c_0) + r_0,0)\n",
    "        return r\n",
    "        # NOTE: using python broadcasting for ones subtraction, so should work for multi-area case too"
   ]
  },
  {
   "cell_type": "markdown",
   "metadata": {},
   "source": [
    "Define the NMDA derivative\n",
    "<br>\n",
    "$$ \\frac{dS_{NMDA}}{dt} = -\\frac{S_{NMDA}}{\\tau_{NMDA}} + (1 - S_{NMDA})\\gamma r_E$$\n",
    "(Wong & Wang, 2006)"
   ]
  },
  {
   "cell_type": "code",
   "execution_count": 4,
   "metadata": {},
   "outputs": [],
   "source": [
    "def NMDA_deriv(S_NMDA_prev,rate_now,parameters):\n",
    "    \n",
    "    return -S_NMDA_prev/parameters['tau_NMDA'] + parameters['gam']*(1 - S_NMDA_prev)*rate_now"
   ]
  },
  {
   "cell_type": "markdown",
   "metadata": {},
   "source": [
    "Define the GABA derivative\n",
    "<br>\n",
    "$$ \\frac{dS_{GABA}}{dt} = -\\frac{S_{GABA}}{\\tau_{GABA}} + \\gamma_Ir_I$$\n",
    "(Wong & Wang, 2006)"
   ]
  },
  {
   "cell_type": "code",
   "execution_count": 5,
   "metadata": {},
   "outputs": [],
   "source": [
    "def GABA_deriv(S_GABA_prev,rate_now,population_type,parameters):\n",
    "    if population_type == 'PV':\n",
    "        return -S_GABA_prev/parameters['tau_GABA'] + parameters['gammai']*rate_now\n",
    "    if population_type == 'NPY':\n",
    "        return -S_GABA_prev/parameters['tau_GABA_NPY'] + parameters['gammai']*rate_now"
   ]
  },
  {
   "cell_type": "markdown",
   "metadata": {},
   "source": [
    "<br>\n",
    "$$ \\frac{dD}{dt} = -p r D + \\frac{1 - D}{\\tau_D}$$\n",
    "\n",
    "\n",
    "$$ \\frac{dS_{NMDA}^{Cla}}{dt} = p r D - \\frac{S_{NMDA}^{Cla}}{\\tau_{NMDA}} $$\n",
    "\n",
    "where p: constant vesicle release probability (0.45), D: fraction of available vesicles, $\\tau_D$: time constant (600mS).\n",
    "\n",
    "\n",
    "(Wei & wang, 2016)"
   ]
  },
  {
   "cell_type": "code",
   "execution_count": 6,
   "metadata": {},
   "outputs": [],
   "source": [
    "def D_deriv(D_prev,rate_now,parameters):\n",
    "    return -parameters['p']*rate_now*D_prev +(1-D_prev)/parameters['tau_D']"
   ]
  },
  {
   "cell_type": "code",
   "execution_count": 7,
   "metadata": {},
   "outputs": [],
   "source": [
    "def NMDA_cla_deriv(S_NMDA_cla_prev,rate_now,D_prev,parameters):\n",
    "    return parameters['p']*rate_now*D_prev - S_NMDA_cla_prev/parameters['tau_NMDA']"
   ]
  },
  {
   "cell_type": "markdown",
   "metadata": {},
   "source": [
    "# 2. Set Parameters"
   ]
  },
  {
   "cell_type": "code",
   "execution_count": 8,
   "metadata": {},
   "outputs": [],
   "source": [
    "parameters = {}\n",
    "parameters.update({'SF1': 0.5, # Jorge M scaling factor to keep rates in check\n",
    "                    'SF2': 2})    # Jorge M scaling factor to keep rates in check\n",
    "                   \n",
    "parameters.update({ # Time constants\n",
    "                    'tau_NMDA': 0.06   * brian2.second,    # s \n",
    "                    'tau_GABA': 0.005  * brian2.second,    # s \n",
    "                    'tau_GABA_NPY': 0.3  * brian2.second,    # s\n",
    "                    'tau_AMPA': 0.002  * brian2.second,    # s \n",
    "                    'tau_rates': 0.002 * brian2.second,    # s \n",
    "                    # f-I curve parameters - E populations\n",
    "                    'a_E': 270. *parameters['SF1']  * brian2.Hz/brian2.nA,  # Hz/nA\n",
    "                    'b_E': 108. *parameters['SF1']  * brian2.Hz,            # Hz\n",
    "                    'd_E': 0.154*parameters['SF2']  * brian2.second,        # s\n",
    "                    'gam': 0.641*parameters['SF2'],                         # unitless\n",
    "                    # f-I curve parameters - I populations\n",
    "                    'g_2': 1/(0.5*parameters['SF1']),                    # unitless\n",
    "                    'c_I': 615  * brian2.Hz/brian2.nA,                 # Hz/nA\n",
    "                    'c_0': 177  * brian2.Hz,                           # Hz\n",
    "                    'gammai': parameters['SF2'],                       # unitless\n",
    "                    # Local connectivity matrix strengths\n",
    "    \n",
    "                    # Strength of connections from E cells\n",
    "                    'g_E_self': 0.10 * brian2.nA ,        # nA --> I_local_grad_NMDA\n",
    "                    'g_E_cross': 0.0107* brian2.nA,         # nA --> J_NMDA --> I_local_nongrad_NMDA\n",
    "                    # Strength of connections from I cells\n",
    "                    'g_E_I':  -0.40  * brian2.nA,         # nA --> J_GABA --> I_local_GABA\n",
    "                    'g_Iself': -0.12  * brian2.nA,         # nA --> J_GABA --> I_local_GABA\n",
    "                    'g_I_E': 700 * brian2.pA,               #pA\n",
    "                    'g_E_I_clas': -0.31* brian2.nA,         #pA\n",
    "                    # Background inputs\n",
    "                    'I0_E': 0.3294     * brian2.nA,         # nA\n",
    "                    'I0_I': 0.26       * brian2.nA,         # nA\n",
    "                    # Noise std dev\n",
    "                    'std_noise': 0.01 * brian2.nA,         # nA      \n",
    "                    # initial values\n",
    "                    'r0_E': 5 * brian2.Hz,\n",
    "                    'r0_I': 11*parameters['SF1'] * brian2.Hz\n",
    "                        })      \n",
    "parameters.update({ # Zetas\n",
    "                    'zeta': parameters['c_I']*parameters['g_E_I']*parameters['tau_GABA']*parameters['gammai']\\\n",
    "                            /(parameters['g_2'] - parameters['g_Iself']*parameters['tau_GABA']*parameters['gammai']*parameters['c_I']),\n",
    "                    'zeta2': 2*parameters['c_I']*parameters['tau_GABA']*parameters['gammai']*parameters['g_E_I']\\\n",
    "                            /(parameters['c_I']*parameters['tau_GABA']*parameters['gammai']*parameters['g_Iself'] - parameters['g_2']),\n",
    "                        })    \n",
    "parameters.update({'S0': 0}) # #initial S_NMDA and S_GABA\n",
    "parameters.update({'dt': 0.5 * brian2.ms}) \n",
    "parameters.update({'D_0': 1})\n",
    "\n",
    "parameters.update({'trial_length': 3 * brian2.second,\n",
    "                   'start_time': 0 *brian2.second, # s\n",
    "                   'end_time': 3 *brian2.second}) "
   ]
  },
  {
   "cell_type": "code",
   "execution_count": 9,
   "metadata": {},
   "outputs": [],
   "source": [
    "parameters.update({'p_Icort_Eclas': 0.4,  # 75% percent of claustrum projection goes to inhibitory cells in the cortex, Jackson et al., Neuron, 2018 \n",
    "                   'p_Iclas_Ecort' : 0.2 # 20% percent of cortical projection goes to inhibitory cells in the claustrum  (where does it come from ?)\n",
    "\n",
    "})\n",
    "\n",
    "parameters.update({'p': 0.45, #vesicle release probability \n",
    "                   'tau_D' : 10 * brian2.second # 20% percent of cortical projection goes to inhibitory cells in the claustrum  (where does it come from ?)\n",
    "\n",
    "})"
   ]
  },
  {
   "cell_type": "markdown",
   "metadata": {},
   "source": [
    "# 2. Connectivity"
   ]
  },
  {
   "cell_type": "code",
   "execution_count": 10,
   "metadata": {},
   "outputs": [],
   "source": [
    "#plot\n",
    "pops = ['E1','E2','PV','NPY']\n",
    "pops_column_list  = ['from '+ mystring for mystring in pops]\n",
    "pops_row_list  = ['to '+ mystring for mystring in pops]"
   ]
  },
  {
   "cell_type": "markdown",
   "metadata": {},
   "source": [
    "## Cortical connectivity"
   ]
  },
  {
   "cell_type": "code",
   "execution_count": 11,
   "metadata": {},
   "outputs": [],
   "source": [
    "parameters.update({'g_PV_NPY': -0.7  * brian2.nA })\n",
    "parameters.update({'g_E_NPY': -0.5  * brian2.nA })"
   ]
  },
  {
   "cell_type": "code",
   "execution_count": 12,
   "metadata": {},
   "outputs": [
    {
     "data": {
      "text/html": [
       "<div>\n",
       "<style scoped>\n",
       "    .dataframe tbody tr th:only-of-type {\n",
       "        vertical-align: middle;\n",
       "    }\n",
       "\n",
       "    .dataframe tbody tr th {\n",
       "        vertical-align: top;\n",
       "    }\n",
       "\n",
       "    .dataframe thead th {\n",
       "        text-align: right;\n",
       "    }\n",
       "</style>\n",
       "<table border=\"1\" class=\"dataframe\">\n",
       "  <thead>\n",
       "    <tr style=\"text-align: right;\">\n",
       "      <th></th>\n",
       "      <th>from E1</th>\n",
       "      <th>from E2</th>\n",
       "      <th>from PV</th>\n",
       "      <th>from NPY</th>\n",
       "    </tr>\n",
       "  </thead>\n",
       "  <tbody>\n",
       "    <tr>\n",
       "      <td>to E1</td>\n",
       "      <td>1.000000e-10</td>\n",
       "      <td>1.070000e-11</td>\n",
       "      <td>-4.000000e-10</td>\n",
       "      <td>-5.000000e-10</td>\n",
       "    </tr>\n",
       "    <tr>\n",
       "      <td>to E2</td>\n",
       "      <td>1.070000e-11</td>\n",
       "      <td>1.000000e-10</td>\n",
       "      <td>-4.000000e-10</td>\n",
       "      <td>-5.000000e-10</td>\n",
       "    </tr>\n",
       "    <tr>\n",
       "      <td>to PV</td>\n",
       "      <td>7.000000e-10</td>\n",
       "      <td>7.000000e-10</td>\n",
       "      <td>-1.200000e-10</td>\n",
       "      <td>-7.000000e-10</td>\n",
       "    </tr>\n",
       "    <tr>\n",
       "      <td>to NPY</td>\n",
       "      <td>0.000000e+00</td>\n",
       "      <td>0.000000e+00</td>\n",
       "      <td>0.000000e+00</td>\n",
       "      <td>-1.200000e-10</td>\n",
       "    </tr>\n",
       "  </tbody>\n",
       "</table>\n",
       "</div>"
      ],
      "text/plain": [
       "             from E1       from E2       from PV      from NPY\n",
       "to E1   1.000000e-10  1.070000e-11 -4.000000e-10 -5.000000e-10\n",
       "to E2   1.070000e-11  1.000000e-10 -4.000000e-10 -5.000000e-10\n",
       "to PV   7.000000e-10  7.000000e-10 -1.200000e-10 -7.000000e-10\n",
       "to NPY  0.000000e+00  0.000000e+00  0.000000e+00 -1.200000e-10"
      ]
     },
     "metadata": {},
     "output_type": "display_data"
    }
   ],
   "source": [
    "######## LOCAL ########\n",
    "J =  np.array([[parameters['g_E_self']    , parameters['g_E_cross'], parameters['g_I_E'],parameters['g_I_E']*0],\n",
    "              [parameters['g_E_cross']    , parameters['g_E_self'],  parameters['g_I_E'], parameters['g_I_E']*0],\n",
    "               [parameters['g_E_I'],parameters['g_E_I'],parameters['g_Iself'],0 ],\n",
    "              [parameters['g_E_NPY'],parameters['g_E_NPY'],parameters['g_PV_NPY'],parameters['g_Iself']]]).T * brian2.amp\n",
    "\n",
    "\n",
    "df_J = pandas.DataFrame(J , columns=pops_column_list, index=pops_row_list)\n",
    "\n",
    "J_NMDA = J*((J>0).astype(np.int))\n",
    "J_GABA = J*((J<0).astype(np.int))\n",
    "\n",
    "display(df_J)"
   ]
  },
  {
   "cell_type": "code",
   "execution_count": 13,
   "metadata": {},
   "outputs": [
    {
     "data": {
      "text/latex": [
       "$\\left[\\begin{matrix}100.0 & 10.7 & 0.0 & 0.0\\\\10.7 & 100.0 & 0.0 & 0.0\\\\700.0 & 700.0 & 0.0 & 0.0\\\\0.0 & 0.0 & 0.0 & 0.0\\end{matrix}\\right]\\,\\mathrm{p}\\,\\mathrm{A}$"
      ],
      "text/plain": [
       "array([[100. ,  10.7,  -0. ,  -0. ],\n",
       "       [ 10.7, 100. ,  -0. ,  -0. ],\n",
       "       [700. , 700. ,  -0. ,  -0. ],\n",
       "       [  0. ,   0. ,   0. ,  -0. ]]) * pamp"
      ]
     },
     "metadata": {},
     "output_type": "display_data"
    }
   ],
   "source": [
    "display(J_NMDA)"
   ]
  },
  {
   "cell_type": "code",
   "execution_count": 14,
   "metadata": {},
   "outputs": [
    {
     "data": {
      "text/latex": [
       "$\\left[\\begin{matrix}0.0 & 0.0 & -0.4 & -0.5\\\\0.0 & 0.0 & -0.4 & -0.5\\\\0.0 & 0.0 & -0.12 & -0.7\\\\0.0 & 0.0 & 0.0 & -0.12\\end{matrix}\\right]\\,\\mathrm{n}\\,\\mathrm{A}$"
      ],
      "text/plain": [
       "array([[ 0.  ,  0.  , -0.4 , -0.5 ],\n",
       "       [ 0.  ,  0.  , -0.4 , -0.5 ],\n",
       "       [ 0.  ,  0.  , -0.12, -0.7 ],\n",
       "       [ 0.  ,  0.  ,  0.  , -0.12]]) * namp"
      ]
     },
     "metadata": {},
     "output_type": "display_data"
    }
   ],
   "source": [
    "display(J_GABA)"
   ]
  },
  {
   "cell_type": "markdown",
   "metadata": {},
   "source": [
    "### Claustrum conectivity"
   ]
  },
  {
   "cell_type": "code",
   "execution_count": 15,
   "metadata": {},
   "outputs": [],
   "source": [
    "parameters.update({'g_E_self_cla': 0 * brian2.nA})"
   ]
  },
  {
   "cell_type": "code",
   "execution_count": 16,
   "metadata": {},
   "outputs": [
    {
     "data": {
      "text/html": [
       "<div>\n",
       "<style scoped>\n",
       "    .dataframe tbody tr th:only-of-type {\n",
       "        vertical-align: middle;\n",
       "    }\n",
       "\n",
       "    .dataframe tbody tr th {\n",
       "        vertical-align: top;\n",
       "    }\n",
       "\n",
       "    .dataframe thead th {\n",
       "        text-align: right;\n",
       "    }\n",
       "</style>\n",
       "<table border=\"1\" class=\"dataframe\">\n",
       "  <thead>\n",
       "    <tr style=\"text-align: right;\">\n",
       "      <th></th>\n",
       "      <th>from Claustrum E_1</th>\n",
       "      <th>from Claustrum E_2</th>\n",
       "      <th>from Claustrum I</th>\n",
       "      <th>from Claustrum</th>\n",
       "    </tr>\n",
       "  </thead>\n",
       "  <tbody>\n",
       "    <tr>\n",
       "      <td>to Claustrum E_1</td>\n",
       "      <td>0.000000e+00</td>\n",
       "      <td>0.000000e+00</td>\n",
       "      <td>-3.100000e-10</td>\n",
       "      <td>0.0</td>\n",
       "    </tr>\n",
       "    <tr>\n",
       "      <td>to Claustrum E_2</td>\n",
       "      <td>0.000000e+00</td>\n",
       "      <td>0.000000e+00</td>\n",
       "      <td>-3.100000e-10</td>\n",
       "      <td>0.0</td>\n",
       "    </tr>\n",
       "    <tr>\n",
       "      <td>to Claustrum I</td>\n",
       "      <td>7.000000e-10</td>\n",
       "      <td>7.000000e-10</td>\n",
       "      <td>-1.200000e-10</td>\n",
       "      <td>0.0</td>\n",
       "    </tr>\n",
       "    <tr>\n",
       "      <td>to Claustrum</td>\n",
       "      <td>0.000000e+00</td>\n",
       "      <td>0.000000e+00</td>\n",
       "      <td>0.000000e+00</td>\n",
       "      <td>0.0</td>\n",
       "    </tr>\n",
       "  </tbody>\n",
       "</table>\n",
       "</div>"
      ],
      "text/plain": [
       "                  from Claustrum E_1  from Claustrum E_2  from Claustrum I  \\\n",
       "to Claustrum E_1        0.000000e+00        0.000000e+00     -3.100000e-10   \n",
       "to Claustrum E_2        0.000000e+00        0.000000e+00     -3.100000e-10   \n",
       "to Claustrum I          7.000000e-10        7.000000e-10     -1.200000e-10   \n",
       "to Claustrum            0.000000e+00        0.000000e+00      0.000000e+00   \n",
       "\n",
       "                  from Claustrum   \n",
       "to Claustrum E_1              0.0  \n",
       "to Claustrum E_2              0.0  \n",
       "to Claustrum I                0.0  \n",
       "to Claustrum                  0.0  "
      ]
     },
     "metadata": {},
     "output_type": "display_data"
    }
   ],
   "source": [
    "J_clas =  np.array([[parameters['g_E_self_cla'],0,parameters['g_E_I_clas'],0],\n",
    "                    [0,parameters['g_E_self_cla'],parameters['g_E_I_clas'],0],\n",
    "                    [parameters['g_I_E'],parameters['g_I_E'],parameters['g_Iself'],0],\n",
    "                   [0,0,0,0]])* brian2.amp\n",
    "\n",
    "pops_clas = ['E_1','E_2','I','']\n",
    "pops_column_list_clas  = ['from Claustrum '+ mystring for mystring in pops_clas]\n",
    "pops_row_list_clas  = ['to Claustrum '+ mystring for mystring in pops_clas]\n",
    "\n",
    "#matrix\n",
    "df_J_clas = pandas.DataFrame(J_clas , columns=pops_column_list_clas, index=pops_row_list_clas)\n",
    "J_NMDA_clas = J_clas *((J_clas>0).astype(np.int))\n",
    "J_GABA_clas = J_clas*((J_clas<0).astype(np.int))\n",
    "\n",
    "#plot\n",
    "display(df_J_clas)"
   ]
  },
  {
   "cell_type": "markdown",
   "metadata": {},
   "source": [
    "## Claustro-cortical projections"
   ]
  },
  {
   "cell_type": "markdown",
   "metadata": {},
   "source": [
    "To do: update new connections PV_Ecla, NPY_Ecla"
   ]
  },
  {
   "cell_type": "code",
   "execution_count": 17,
   "metadata": {},
   "outputs": [
    {
     "data": {
      "text/html": [
       "<div>\n",
       "<style scoped>\n",
       "    .dataframe tbody tr th:only-of-type {\n",
       "        vertical-align: middle;\n",
       "    }\n",
       "\n",
       "    .dataframe tbody tr th {\n",
       "        vertical-align: top;\n",
       "    }\n",
       "\n",
       "    .dataframe thead th {\n",
       "        text-align: right;\n",
       "    }\n",
       "</style>\n",
       "<table border=\"1\" class=\"dataframe\">\n",
       "  <thead>\n",
       "    <tr style=\"text-align: right;\">\n",
       "      <th></th>\n",
       "      <th>from Claustrum E_1</th>\n",
       "      <th>from Claustrum E_2</th>\n",
       "      <th>from Claustrum I</th>\n",
       "      <th>from Claustrum</th>\n",
       "    </tr>\n",
       "  </thead>\n",
       "  <tbody>\n",
       "    <tr>\n",
       "      <td>to cortical E_1</td>\n",
       "      <td>2.000000e-10</td>\n",
       "      <td>0.000000e+00</td>\n",
       "      <td>0.0</td>\n",
       "      <td>0.0</td>\n",
       "    </tr>\n",
       "    <tr>\n",
       "      <td>to cortical E_2</td>\n",
       "      <td>0.000000e+00</td>\n",
       "      <td>2.000000e-10</td>\n",
       "      <td>0.0</td>\n",
       "      <td>0.0</td>\n",
       "    </tr>\n",
       "    <tr>\n",
       "      <td>to cortical PV</td>\n",
       "      <td>4.000000e-10</td>\n",
       "      <td>4.000000e-10</td>\n",
       "      <td>0.0</td>\n",
       "      <td>0.0</td>\n",
       "    </tr>\n",
       "    <tr>\n",
       "      <td>to cortical NPY</td>\n",
       "      <td>4.000000e-10</td>\n",
       "      <td>4.000000e-10</td>\n",
       "      <td>0.0</td>\n",
       "      <td>0.0</td>\n",
       "    </tr>\n",
       "  </tbody>\n",
       "</table>\n",
       "</div>"
      ],
      "text/plain": [
       "                 from Claustrum E_1  from Claustrum E_2  from Claustrum I  \\\n",
       "to cortical E_1        2.000000e-10        0.000000e+00               0.0   \n",
       "to cortical E_2        0.000000e+00        2.000000e-10               0.0   \n",
       "to cortical PV         4.000000e-10        4.000000e-10               0.0   \n",
       "to cortical NPY        4.000000e-10        4.000000e-10               0.0   \n",
       "\n",
       "                 from Claustrum   \n",
       "to cortical E_1              0.0  \n",
       "to cortical E_2              0.0  \n",
       "to cortical PV               0.0  \n",
       "to cortical NPY              0.0  "
      ]
     },
     "metadata": {},
     "output_type": "display_data"
    }
   ],
   "source": [
    "######## Claustrum to Cortex  ########\n",
    "W_cort_clas=  np.array([[1-2*parameters['p_Icort_Eclas'],0,0,0],\n",
    "                       [0,1-2*parameters['p_Icort_Eclas'],0,0],\n",
    "                        [parameters['p_Icort_Eclas'],parameters['p_Icort_Eclas'],0,0],\n",
    "                       [parameters['p_Icort_Eclas'],parameters['p_Icort_Eclas'],0,0]])* brian2.nA\n",
    "\n",
    "#layout\n",
    "pops_cla = ['E_1','E_2','I','']\n",
    "pops_cor = ['E_1','E_2','PV','NPY']\n",
    "pops_column_list_cort_clas  = ['from Claustrum '+ mystring for mystring in pops_cla]\n",
    "pops_row_list_cort_clas  = ['to cortical '+ mystring for mystring in pops_cor]\n",
    "\n",
    "df_W_cort_clas = pandas.DataFrame(W_cort_clas, columns=pops_column_list_cort_clas, index=pops_row_list_cort_clas)\n",
    "J_AMPA_cort_clas = W_cort_clas *((W_cort_clas>0).astype(np.int))\n",
    "J_GABA_cort_clas = W_cort_clas *((W_cort_clas<0).astype(np.int))\n",
    "\n",
    "#plot\n",
    "display(df_W_cort_clas)"
   ]
  },
  {
   "cell_type": "markdown",
   "metadata": {},
   "source": [
    "## Cortico-claustral projections"
   ]
  },
  {
   "cell_type": "code",
   "execution_count": 18,
   "metadata": {},
   "outputs": [
    {
     "data": {
      "text/html": [
       "<div>\n",
       "<style scoped>\n",
       "    .dataframe tbody tr th:only-of-type {\n",
       "        vertical-align: middle;\n",
       "    }\n",
       "\n",
       "    .dataframe tbody tr th {\n",
       "        vertical-align: top;\n",
       "    }\n",
       "\n",
       "    .dataframe thead th {\n",
       "        text-align: right;\n",
       "    }\n",
       "</style>\n",
       "<table border=\"1\" class=\"dataframe\">\n",
       "  <thead>\n",
       "    <tr style=\"text-align: right;\">\n",
       "      <th></th>\n",
       "      <th>from cortex E_1</th>\n",
       "      <th>from cortex E_2</th>\n",
       "      <th>from cortex PV</th>\n",
       "      <th>from cortex NPY</th>\n",
       "    </tr>\n",
       "  </thead>\n",
       "  <tbody>\n",
       "    <tr>\n",
       "      <td>to claustrum E_1</td>\n",
       "      <td>8.000000e-10</td>\n",
       "      <td>0.000000e+00</td>\n",
       "      <td>0.0</td>\n",
       "      <td>0.0</td>\n",
       "    </tr>\n",
       "    <tr>\n",
       "      <td>to claustrum E_2</td>\n",
       "      <td>0.000000e+00</td>\n",
       "      <td>8.000000e-10</td>\n",
       "      <td>0.0</td>\n",
       "      <td>0.0</td>\n",
       "    </tr>\n",
       "    <tr>\n",
       "      <td>to claustrum I</td>\n",
       "      <td>2.000000e-10</td>\n",
       "      <td>2.000000e-10</td>\n",
       "      <td>0.0</td>\n",
       "      <td>0.0</td>\n",
       "    </tr>\n",
       "    <tr>\n",
       "      <td>to claustrum</td>\n",
       "      <td>0.000000e+00</td>\n",
       "      <td>0.000000e+00</td>\n",
       "      <td>0.0</td>\n",
       "      <td>0.0</td>\n",
       "    </tr>\n",
       "  </tbody>\n",
       "</table>\n",
       "</div>"
      ],
      "text/plain": [
       "                  from cortex E_1  from cortex E_2  from cortex PV  \\\n",
       "to claustrum E_1     8.000000e-10     0.000000e+00             0.0   \n",
       "to claustrum E_2     0.000000e+00     8.000000e-10             0.0   \n",
       "to claustrum I       2.000000e-10     2.000000e-10             0.0   \n",
       "to claustrum         0.000000e+00     0.000000e+00             0.0   \n",
       "\n",
       "                  from cortex NPY  \n",
       "to claustrum E_1              0.0  \n",
       "to claustrum E_2              0.0  \n",
       "to claustrum I                0.0  \n",
       "to claustrum                  0.0  "
      ]
     },
     "metadata": {},
     "output_type": "display_data"
    }
   ],
   "source": [
    "######## Cortex to Claustrum  ########\n",
    "W_clas_cort=  np.array([[1-parameters['p_Iclas_Ecort'],0,0,0],\n",
    "                       [0,1-parameters['p_Iclas_Ecort'],0,0],\n",
    "                       [parameters['p_Iclas_Ecort'],parameters['p_Iclas_Ecort'],0,0],\n",
    "                       [0,0,0,0]])* brian2.nA\n",
    "\n",
    "#layout\n",
    "pops_cla = ['E_1','E_2','I','']\n",
    "pops_cor = ['E_1','E_2','PV','NPY']\n",
    "pops_column_list_clas_cort  = ['from cortex '+ mystring for mystring in pops_cor]\n",
    "pops_row_list_clas_cort  = ['to claustrum '+ mystring for mystring in pops_cla]\n",
    "\n",
    "df_W_clas_cort = pandas.DataFrame(W_clas_cort, columns=pops_column_list_clas_cort, index=pops_row_list_clas_cort)\n",
    "J_AMPA_clas_cort = W_clas_cort *((W_clas_cort>0).astype(np.int))\n",
    "J_GABA_clas_cort = W_clas_cort *((W_clas_cort<0).astype(np.int))\n",
    "\n",
    "#plot\n",
    "display(df_W_clas_cort)"
   ]
  },
  {
   "cell_type": "markdown",
   "metadata": {},
   "source": [
    "# 3 Model class"
   ]
  },
  {
   "cell_type": "markdown",
   "metadata": {},
   "source": [
    "Define the claustro-cortical current\n",
    "<br>\n",
    "$$ I_{cor/cla} = \\alpha * Fln_{cor/cla} . S_{NMDA}^{Cortex} . W_{cor/cla}^{T} $$\n",
    "\n",
    "\n",
    "\n",
    "where $\\alpha$ is a scaling factor; $Fln_{cor/cla}$ is the fln vector from claustrum to cortex; $S_{NMDA}^{Cortex}$ is the gating variable vector of the 40 cortical areas; $W_{cor/cla}$ is the 3x3 connectivity matrix from claustrum to cortex. \n",
    "\n",
    "Define the cortico-claustral current\n",
    "<br>\n",
    "$$ I_{cla/cor} = \\beta * Fln_{cla/cor} . S_{NMDA}^{Claustrum} . W_{cla/cor}^{T} $$\n",
    "\n",
    "\n",
    "\n",
    "where $\\beta$ is a scaling factor; $Fln_{cla/cor}$ is the fln vector from cortex to claustrum; $S_{NMDA}^{Claustrum}$ is the gating variable vector of the claustrum; $W_{cla/cor}$ is the 3x3 connectivity matrix from cortex to claustrum. "
   ]
  },
  {
   "cell_type": "code",
   "execution_count": 19,
   "metadata": {},
   "outputs": [],
   "source": [
    "area_list = ['Cortex','Claustrum']\n",
    "num_areas = 2"
   ]
  },
  {
   "cell_type": "code",
   "execution_count": 56,
   "metadata": {},
   "outputs": [],
   "source": [
    "class Model(object,):\n",
    "    def __init__(self, parameter):\n",
    "        self.parameters = parameter.copy() \n",
    "\n",
    "    def run(self):\n",
    "        self.__init__(self.parameters)\n",
    "       \n",
    "        # Set up simulation parameters\n",
    "        self.dt= self.parameters['dt']  \n",
    "        self.num_iterations = int(self.parameters['trial_length']/self.dt)\n",
    "        num_iterations =  self.num_iterations\n",
    "        time = np.arange(0, self.parameters['trial_length'], self.parameters['dt'])\n",
    "      \n",
    "        #local parameters\n",
    "        num_areas = 2 #local + claustrum\n",
    "        num_pops = 4\n",
    "        num_E_pops = 2\n",
    "        pops_cla = ['E_1','E_2','I']\n",
    "        pops = ['E_1','E_2','PV','NPY']\n",
    "\n",
    "        # Choose initial values for rates and synapse variables\n",
    "        R0vec = np.array([self.parameters['r0_E'],self.parameters['r0_E'],self.parameters['r0_E'],self.parameters['r0_E']])\n",
    "        R0 = np.matlib.repmat(R0vec, num_areas, 1) * brian2.Hz\n",
    "        self.S_NMDA0 = self.parameters['S0']*np.concatenate((np.ones((num_areas,2)),np.zeros((num_areas,num_pops-2))), axis=1)\n",
    "        self.S_GABA0 = self.parameters['S0']*np.concatenate((np.zeros((num_areas,2)),np.ones((num_areas,num_pops-2))), axis=1)\n",
    "        self.D_0 = self.parameters['D_0']*np.ones((num_areas-1,num_pops))\n",
    "        \n",
    "        # Preassign rate and synapse matrices\n",
    "        self.R = np.zeros((num_iterations,num_areas,num_pops)) * brian2.Hz\n",
    "        self.R[0,:,:] = R0\n",
    "        #self.R[0,-1,3] = 0\n",
    "        self.S_NMDA = np.zeros((num_iterations,num_areas,num_pops))\n",
    "        self.S_NMDA[0,:,:] =  self.S_NMDA0\n",
    "        #self.S_NMDA[0,-1,3] = 0\n",
    "        self.S_GABA = np.zeros((num_iterations,num_areas,num_pops))\n",
    "        self.S_GABA[0,:,:] =  self.S_GABA0\n",
    "        #self.S_GABA[0,-1,3] = 0\n",
    "        \n",
    "        self.D = np.zeros((num_iterations,num_areas-1,num_pops)) #40\n",
    "        self.D[0,:,:] =  self.D_0\n",
    "        self.S_NMDA_cla_cor = np.zeros((num_iterations,num_areas,num_pops))\n",
    "        self.S_NMDA_cla_cor[0,:,:] =  self.S_NMDA0\n",
    "        \n",
    "        # Choose stimulus and distractor strength\n",
    "        stim_strength = self.parameters['stim_strength']\n",
    "        distractor_strength = self.parameters['distractor_strength']\n",
    "        cla_sti_strength = self.parameters['cla_stim_strength']\n",
    "\n",
    "        # Preassign external inputs\n",
    "        I_ext      = np.zeros((num_iterations,num_areas,num_pops)) * brian2.amp\n",
    "        self.stim_on    = self.parameters['stim_on'] \n",
    "        self.stim_off   = self.parameters['stim_off'] \n",
    "        self.distraction_on  = self.parameters['distraction_on']\n",
    "        self.distraction_off = self.parameters['distraction_off']\n",
    "        self.claustrum_on = self.parameters['claustrum_on']\n",
    "        self.claustrum_off = self.parameters['claustrum_off']\n",
    "\n",
    "        # External input applied to  E1\n",
    "        I_ext[int(self.stim_on/self.dt):int(self.stim_off/self.dt),area_list.index(self.parameters['stimulation_area']),pops.index('E_1')] = stim_strength\n",
    "        # External distraction applied to E2\n",
    "        I_ext[int(self.distraction_on/self.dt):int(self.distraction_off/self.dt),area_list.index(self.parameters['distraction_area']),pops.index('E_2')] = distractor_strength\n",
    "\n",
    "        # External input applied to  E1 claustrum\n",
    "        I_ext[int(self.claustrum_on/self.dt):int(self.claustrum_off/self.dt),area_list.index('Claustrum'),pops.index('E_1')] = cla_sti_strength\n",
    "            \n",
    "        # Create matrices in which we can store the currents\n",
    "        # Local \n",
    "        I_local_NMDA =  np.zeros((num_iterations,num_areas,num_pops)) * brian2.pA\n",
    "        I_local_GABA =  np.zeros((num_iterations,num_areas,num_pops)) * brian2.pA\n",
    "        # Claustro\n",
    "        self.I_cor_cla = np.zeros((num_iterations,num_areas,num_pops)) * brian2.pA\n",
    "        self.I_cla_cor = np.zeros((num_iterations,num_areas,num_pops)) * brian2.pA\n",
    "        # Total\n",
    "        self.I_total      =  np.zeros((num_iterations,num_areas,num_pops)) * brian2.pA\n",
    "        \n",
    "        # Define background inputs\n",
    "        I_0 = np.zeros((num_areas,num_pops)) * brian2.pA\n",
    "        I_0[:,[pops.index('E_1'),pops.index('E_2')]] = self.parameters['I0_E']\n",
    "        I_0[:,[pops.index('PV'),pops.index('NPY')]] = self.parameters['I0_I']\n",
    "        I_0[-1,[pops.index('NPY')]] = 0\n",
    "\n",
    "        # Noise\n",
    "        eta = np.random.normal(loc=0.0, scale=1.0, size=(num_iterations,num_areas,num_pops ))\n",
    "        noise_rhs = eta*((np.sqrt(self.parameters['tau_AMPA']*np.power(self.parameters['std_noise'],2))*np.sqrt(self.dt))/self.parameters['tau_AMPA'])\n",
    "        noise_rhs[:,:,2] = 0 # Jorge M only put noise on the E pops\n",
    "        I_noise = np.zeros((num_areas , num_pops )) *brian2.pA\n",
    "        \n",
    "        for i_t in range(1,num_iterations):\n",
    "            \n",
    "            ######### NOISE #########\n",
    "            I_noise = I_noise + -I_noise*(self.dt/self.parameters['tau_AMPA']) + noise_rhs[i_t-1,:,:]\n",
    "            \n",
    "            ######### LOCAL #########\n",
    "            I_local_NMDA[i_t-1,:-1,:] = J_NMDA.dot(self.S_NMDA[i_t-1,:-1,:].T).T #cortex\n",
    "            I_local_NMDA[i_t-1,-1,:] = J_NMDA_clas.dot(self.S_NMDA[i_t-1,-1,:].T).T #claustrum\n",
    "            I_local_GABA[i_t-1,:-1,:] = J_GABA.dot(self.S_GABA[i_t-1,:-1,:].T).T\n",
    "            I_local_GABA[i_t-1,-1,:] = J_GABA_clas.dot(self.S_GABA[i_t-1,-1,:].T).T  \n",
    "    \n",
    "            ######### CLAUSTRUM ######### \n",
    "            #Add ON/OFF option: if t not during claustrum activation, set current to I_0_cla/ else, set as following\n",
    "            #from the claustrum 40x4\n",
    "            clas_current_strength = self.parameters['alpha'] * self.S_NMDA[i_t-1,-1,:].T  * brian2.amp \n",
    "            self.I_cor_cla[i_t-1,:-1,:] = clas_current_strength.dot(df_W_cort_clas.T) \n",
    "            #to the claustrum 1x3\n",
    "            cort_current_strength = self.parameters['beta'] * self.S_NMDA_cla_cor[i_t-1,:-1,:] *  brian2.amp\n",
    "            I_cort_cla_temp = cort_current_strength.dot(df_W_clas_cort.T) \n",
    "            self.I_cla_cor[i_t-1,-1,:] = I_cort_cla_temp\n",
    "            \n",
    "            #########  TOTAL ##########\n",
    "            # Define total input current \n",
    "            self.I_total[i_t-1,:,:] =  I_local_NMDA[i_t-1,:,:] + I_local_GABA[i_t-1,:,:] \\\n",
    "            + self.I_cor_cla[i_t-1,:,:] + self.I_cla_cor[i_t-1,:,:] + I_0 \\\n",
    "            + I_ext[i_t-1,:,:]  + I_noise * self.parameters['turn_noise']\n",
    "            \n",
    "            ######## PRINT #########\n",
    "            if (i_t%3000==0 or i_t==1):\n",
    "            #    print('t = ',i_t)\n",
    "            #    print('I_cla_tot: ', self.I_total[i_t-1,-1,:])\n",
    "                #print('grad_NMDA :', I_local_grad_NMDA[i_t-1,40,:])\n",
    "            #    print('nongrad_NMDA :', I_local_NMDA[i_t-1,-1,:])\n",
    "            #    print('GABA :', I_local_GABA[i_t-1,-1,:])\n",
    "                #print('ext :',I_ext[i_t-1,40,:])\n",
    "            #    print('claustrum --> STPi (cortex) : ', self.I_cor_cla[i_t-1,area_list.index('Cortex'),:])\n",
    "                print('I cortex --> claustrum : ', self.I_cla_cor[i_t-1,-1,:])\n",
    "                print('S cortex --> claustrum : ', self.S_NMDA_cla_cor[i_t-1,:-1,:] )\n",
    "            #    print('rate PV and NPY (Cortex):',self.R[i_t-1,area_list.index('Cortex'),2:])\n",
    "                print('rate E1 and E2 (Cortex):',self.R[i_t-1,area_list.index('Cortex'),:2])\n",
    "            #    print('rate PV and NPY (Claustrum):',self.R[i_t-1,area_list.index('Claustrum'),2:])\n",
    "            #    print('------')\n",
    "\n",
    "            # Update the firing rates of the E and I pops\n",
    "            self.R[i_t,:,:2] = self.R[i_t-1,:,:2] + self.dt*current_to_frequency(self.I_total[i_t-1,:,:2],'E',self.parameters)/self.parameters['tau_AMPA'] -self.dt*self.R[i_t-1,:,:2]/self.parameters['tau_AMPA'] \n",
    "            self.R[i_t,:,2:] =  self.R[i_t-1,:,2:] + self.dt*current_to_frequency(self.I_total[i_t-1,:,2:],'I',self.parameters)/self.parameters['tau_AMPA'] -self.dt*self.R[i_t-1,:,2:]/self.parameters['tau_AMPA']\n",
    "            # Update the NMDA and GABA synapses\n",
    "            self.S_NMDA[i_t,:,:2] = self.S_NMDA[i_t-1,:,:2] + self.dt*NMDA_deriv(self.S_NMDA[i_t-1,:,:2],self.R[i_t,:,:2],self.parameters)\n",
    "            self.S_GABA[i_t,:,2] = self.S_GABA[i_t-1,:,2] + self.dt*GABA_deriv(self.S_GABA[i_t-1,:,2],self.R[i_t,:,2],'PV',self.parameters)\n",
    "            self.S_GABA[i_t,:-1,3] = self.S_GABA[i_t-1,:-1,3] + self.dt*GABA_deriv(self.S_GABA[i_t-1,:-1,3],self.R[i_t,:-1,3],'NPY',self.parameters)\n",
    "            #In case we want to introduce S_NMDA_cla etc...\n",
    "            \n",
    "        \n",
    "            # Update the NMDA and GABA synapses (CORTEX -> CLAUSTRUM)\n",
    "            self.D[i_t,0,:] = self.D[i_t-1,0,:] + self.dt*D_deriv(self.D[i_t-1,0,:],self.R[i_t,-1,:],self.parameters)\n",
    "            self.S_NMDA_cla_cor[i_t,:-1,:2] = self.S_NMDA_cla_cor[i_t-1,:-1,:2] \\\n",
    "            + self.dt*NMDA_cla_deriv(self.S_NMDA_cla_cor[i_t-1,:-1,:2],self.R[i_t,:-1,:2],self.D[i_t,0,:2],self.parameters)\n",
    "            \n",
    "    def draw(self,):\n",
    "        self.__init__(self.parameters)\n",
    "        \n",
    "        fig=plt.figure(figsize=(16,10), dpi= 80, facecolor='w', edgecolor='k')\n",
    "        plt.rcParams.update({'font.size': 12})\n",
    "\n",
    "        for i in range(1,num_areas+1):\n",
    "            ax = plt.subplot(num_areas,2,i)\n",
    "            ax.set_title(area_list[i-1])\n",
    "            plt.subplots_adjust(hspace = 1)\n",
    "            # Plot the rates for E1, E2, I\n",
    "            plt.plot(np.arange(self.parameters['start_time'],self.parameters['end_time'],self.dt),self.R[np.arange(int(self.parameters['start_time'].item()/self.dt),int(self.parameters['end_time'].item()/self.dt),1),i-1,0],label = 'E1')\n",
    "            plt.plot(np.arange(self.parameters['start_time'],self.parameters['end_time'],self.dt),self.R[np.arange(int(self.parameters['start_time'].item()/self.dt),int(self.parameters['end_time'].item()/self.dt),1),i-1,1],label = 'E2')\n",
    "            plt.plot(np.arange(self.parameters['start_time'],self.parameters['end_time'],self.dt),self.R[np.arange(int(self.parameters['start_time'].item()/self.dt),int(self.parameters['end_time'].item()/self.dt),1),i-1,2],label = 'PV', color='red')\n",
    "            if i == 1:\n",
    "                plt.plot(np.arange(self.parameters['start_time'],self.parameters['end_time'],self.dt),self.R[np.arange(int(self.parameters['start_time'].item()/self.dt),int(self.parameters['end_time'].item()/self.dt),1),i-1,3],label = 'NPY',color='green')\n",
    "            # Plot the stimulation and distraction time\n",
    "            plt.axvspan(self.stim_on,self.stim_off, alpha=0.1,color='b')\n",
    "            #plt.axvspan(self.distraction_on,self.distraction_off, alpha=0.1,color='r')\n",
    "            #plt.axvspan(self.stim_on,self.stim_off, alpha=0.01,color='yellow')\n",
    "            #plt.plot([self.parameters['claustrum_on'],self.parameters['claustrum_off']],[np.max(self.R[:,i-1,:2]+0.55*np.max(self.R[:,i-1,:2])),np.max(self.R[:,i-1,:2]+0.55*np.max(self.R[:,i-1,:2]))],color='black',linewidth=5.0)\n",
    "            plt.axvspan(self.claustrum_on,self.claustrum_off, alpha=0.5,color='lime')\n",
    "            #plt.plot([self.stim_on,self.stim_off],[np.max(self.R[:,i-1,:2]+0.15*np.max(self.R[:,i-1,:2])),np.max(self.R[:,i-1,:2]+0.15*np.max(self.R[:,i-1,:2]))],color='blue',linewidth=5.0)\n",
    "            # Plot the claustrum time\n",
    "            #plt.plot([self.parameters['claustrum_on'],self.parameters['claustrum_off']],[np.max(self.R[:,i-1,:2]+0.55*np.max(self.R[:,i-1,:2])),np.max(self.R[:,i-1,:2]+0.55*np.max(self.R[:,i-1,:2]))],color='black',linewidth=5.0)\n",
    "            # Plot the distraction time\n",
    "            #plt.plot([self.distraction_on,self.distraction_off],[np.max(self.R[:,i-1,:2]+0.95*np.max(self.R[:,i-1,:2])),np.max(self.R[:,i-1,:2]+0.95*np.max(self.R[:,i-1,:2]))],color='red',linewidth=5.0)\n",
    "            # place text above the black line\n",
    "            axes = plt.gca()\n",
    "            #plt.legend(['E1','E2','I'])\n",
    "            plt.xlabel('time (s)')\n",
    "            plt.ylabel('firing rate (Hz)')\n",
    "            if i==2:\n",
    "                plt.ylim(0,40)\n",
    "            else:\n",
    "                plt.ylim(0,30) \n",
    "            plt.xlim(0,0.08)\n",
    "            plt.legend()\n",
    "        plt.show()\n",
    "        \n",
    "    \n",
    "    \n",
    "    "
   ]
  },
  {
   "cell_type": "markdown",
   "metadata": {},
   "source": [
    "## Run model"
   ]
  },
  {
   "cell_type": "code",
   "execution_count": 61,
   "metadata": {},
   "outputs": [],
   "source": [
    "p_0 = parameters.copy()\n",
    "\n",
    "p_0.update({'alpha':3,\n",
    "             'beta':0.5,\n",
    "            })\n",
    "\n",
    "p_0.update({'distractor_strength':0 * brian2.nA,\n",
    "            'stim_strength':0.4 * brian2.nA,\n",
    "            'cla_stim_strength': 1 * brian2.nA\n",
    "           })\n",
    "\n",
    "p_0.update({'stimulation_area':'Cortex',\n",
    "            'distraction_area':'Cortex'\n",
    "                  })\n",
    "\n",
    "p_0.update({'distraction_on': 0.5 * brian2.second,\n",
    "            'distraction_off':0.5* brian2.second,\n",
    "            'stim_on': 0.05 * brian2.second,\n",
    "            'stim_off': 0.08 * brian2.second,\n",
    "            'claustrum_on': 0.02 * brian2.second,\n",
    "            'claustrum_off': 0.0205* brian2.second,\n",
    "                  })\n",
    "p_0.update({'turn_noise':0.5\n",
    "                  })"
   ]
  },
  {
   "cell_type": "code",
   "execution_count": 62,
   "metadata": {},
   "outputs": [
    {
     "name": "stdout",
     "output_type": "stream",
     "text": [
      "I cortex --> claustrum :  [0. 0. 0. 0.] A\n",
      "S cortex --> claustrum :  [[0. 0. 0. 0.]]\n",
      "rate E1 and E2 (Cortex): [5. 5.] Hz\n",
      "I cortex --> claustrum :  [1.20212024 1.25425799 0.61409456 0.        ] fA\n",
      "S cortex --> claustrum :  [[3.00530059e-06 3.13564498e-06 0.00000000e+00 0.00000000e+00]]\n",
      "rate E1 and E2 (Cortex): [117.16267756 126.98557536] uHz\n"
     ]
    },
    {
     "data": {
      "image/png": "[encoded data removed]",
      "text/plain": [
       "<Figure size 1280x800 with 2 Axes>"
      ]
     },
     "metadata": {},
     "output_type": "display_data"
    }
   ],
   "source": [
    "model_0 = Model(p_0)\n",
    "model_0.run()\n",
    "fig = model_0.draw()"
   ]
  },
  {
   "cell_type": "markdown",
   "metadata": {},
   "source": [
    "# Fine tuning to get persistent activity"
   ]
  },
  {
   "cell_type": "code",
   "execution_count": null,
   "metadata": {},
   "outputs": [],
   "source": [
    "def fine_tuning(parameter,par_list = np.arange(0,0.5,0.1)):\n",
    "    for p, par in enumerate(par_list):\n",
    "        print('g_E_self =', par)\n",
    "        p_1 = p_0.copy()\n",
    "        p_1.update({'g_E_self': par * brian2.nA})\n",
    "        J =  np.array([[p_0['g_E_self']    , p_0['g_E_cross'], p_0['g_I_E']],\n",
    "              [p_0['g_E_cross']    , p_0['g_E_self'],  p_0['g_I_E']],\n",
    "               [p_0['g_E_I'],p_0['g_E_I'],p_0['g_Iself'] ]]).T * brian2.amp\n",
    "        J_NMDA = J*((J>0).astype(np.int))\n",
    "        J_GABA = J*((J<0).astype(np.int))\n",
    "        model_1 = Model(p_1)\n",
    "        model_1.run()\n",
    "        fig = model_1.draw()\n",
    "    return \n",
    "  "
   ]
  },
  {
   "cell_type": "code",
   "execution_count": 202,
   "metadata": {},
   "outputs": [
    {
     "name": "stdout",
     "output_type": "stream",
     "text": [
      "g_E_self = 0.48\n",
      "rate PV and NPY (Cortex): [5. 5.] Hz\n",
      "rate PV and NPY (Claustrum): [5. 5.] Hz\n",
      "rate PV and NPY (Cortex): [3.29652535 0.07538697] Hz\n",
      "rate PV and NPY (Claustrum): [3.29305672e-06 0.00000000e+00] MHz\n",
      "rate PV and NPY (Cortex): [3.29652535 0.07538698] Hz\n",
      "rate PV and NPY (Claustrum): [3.29305672e-06 0.00000000e+00] MHz\n",
      "rate PV and NPY (Cortex): [4.96415590e-65 7.07642898e-85] yHz\n",
      "rate PV and NPY (Claustrum): [2.92665188e-06 0.00000000e+00] MHz\n",
      "rate PV and NPY (Cortex): [0. 0.] YHz\n",
      "rate PV and NPY (Claustrum): [2.87651324e-06 0.00000000e+00] MHz\n",
      "rate PV and NPY (Cortex): [0. 0.] YHz\n",
      "rate PV and NPY (Claustrum): [2.89184948e-06 0.00000000e+00] MHz\n",
      "rate PV and NPY (Cortex): [3.29609498 0.0801557 ] Hz\n",
      "rate PV and NPY (Claustrum): [3.29151194e-06 0.00000000e+00] MHz\n"
     ]
    },
    {
     "data": {
      "image/png": "[encoded data removed]",
      "text/plain": [
       "<Figure size 1280x800 with 2 Axes>"
      ]
     },
     "metadata": {},
     "output_type": "display_data"
    },
    {
     "name": "stdout",
     "output_type": "stream",
     "text": [
      "g_E_self = 0.5\n",
      "rate PV and NPY (Cortex): [5. 5.] Hz\n",
      "rate PV and NPY (Claustrum): [5. 5.] Hz\n",
      "rate PV and NPY (Cortex): [3.29652535 0.07538697] Hz\n",
      "rate PV and NPY (Claustrum): [3.29305672e-06 0.00000000e+00] MHz\n",
      "rate PV and NPY (Cortex): [3.29652535 0.07538698] Hz\n",
      "rate PV and NPY (Claustrum): [3.29305672e-06 0.00000000e+00] MHz\n",
      "rate PV and NPY (Cortex): [4.96415590e-65 7.07642898e-85] yHz\n",
      "rate PV and NPY (Claustrum): [2.92665188e-06 0.00000000e+00] MHz\n",
      "rate PV and NPY (Cortex): [0. 0.] YHz\n",
      "rate PV and NPY (Claustrum): [2.87651324e-06 0.00000000e+00] MHz\n",
      "rate PV and NPY (Cortex): [0. 0.] YHz\n",
      "rate PV and NPY (Claustrum): [2.89184948e-06 0.00000000e+00] MHz\n",
      "rate PV and NPY (Cortex): [3.29609498 0.0801557 ] Hz\n",
      "rate PV and NPY (Claustrum): [3.29151194e-06 0.00000000e+00] MHz\n"
     ]
    },
    {
     "data": {
      "image/png": "[encoded data removed]",
      "text/plain": [
       "<Figure size 1280x800 with 2 Axes>"
      ]
     },
     "metadata": {},
     "output_type": "display_data"
    },
    {
     "name": "stdout",
     "output_type": "stream",
     "text": [
      "g_E_self = 0.52\n",
      "rate PV and NPY (Cortex): [5. 5.] Hz\n",
      "rate PV and NPY (Claustrum): [5. 5.] Hz\n",
      "rate PV and NPY (Cortex): [3.29652535 0.07538697] Hz\n",
      "rate PV and NPY (Claustrum): [3.29305672e-06 0.00000000e+00] MHz\n",
      "rate PV and NPY (Cortex): [3.29652535 0.07538698] Hz\n",
      "rate PV and NPY (Claustrum): [3.29305672e-06 0.00000000e+00] MHz\n",
      "rate PV and NPY (Cortex): [4.96415590e-65 7.07642898e-85] yHz\n",
      "rate PV and NPY (Claustrum): [2.92665188e-06 0.00000000e+00] MHz\n",
      "rate PV and NPY (Cortex): [0. 0.] YHz\n",
      "rate PV and NPY (Claustrum): [2.87651324e-06 0.00000000e+00] MHz\n",
      "rate PV and NPY (Cortex): [0. 0.] YHz\n",
      "rate PV and NPY (Claustrum): [2.89184948e-06 0.00000000e+00] MHz\n",
      "rate PV and NPY (Cortex): [3.29609498 0.0801557 ] Hz\n",
      "rate PV and NPY (Claustrum): [3.29151194e-06 0.00000000e+00] MHz\n"
     ]
    },
    {
     "data": {
      "image/png": "[encoded data removed]",
      "text/plain": [
       "<Figure size 1280x800 with 2 Axes>"
      ]
     },
     "metadata": {},
     "output_type": "display_data"
    },
    {
     "name": "stdout",
     "output_type": "stream",
     "text": [
      "g_E_self = 0.54\n",
      "rate PV and NPY (Cortex): [5. 5.] Hz\n",
      "rate PV and NPY (Claustrum): [5. 5.] Hz\n",
      "rate PV and NPY (Cortex): [3.29652535 0.07538697] Hz\n",
      "rate PV and NPY (Claustrum): [3.29305672e-06 0.00000000e+00] MHz\n",
      "rate PV and NPY (Cortex): [3.29652535 0.07538698] Hz\n",
      "rate PV and NPY (Claustrum): [3.29305672e-06 0.00000000e+00] MHz\n",
      "rate PV and NPY (Cortex): [4.96415590e-65 7.07642898e-85] yHz\n",
      "rate PV and NPY (Claustrum): [2.92665188e-06 0.00000000e+00] MHz\n",
      "rate PV and NPY (Cortex): [0. 0.] YHz\n",
      "rate PV and NPY (Claustrum): [2.87651324e-06 0.00000000e+00] MHz\n",
      "rate PV and NPY (Cortex): [0. 0.] YHz\n",
      "rate PV and NPY (Claustrum): [2.89184948e-06 0.00000000e+00] MHz\n",
      "rate PV and NPY (Cortex): [3.29609498 0.0801557 ] Hz\n",
      "rate PV and NPY (Claustrum): [3.29151194e-06 0.00000000e+00] MHz\n"
     ]
    },
    {
     "data": {
      "image/png": "[encoded data removed]",
      "text/plain": [
       "<Figure size 1280x800 with 2 Axes>"
      ]
     },
     "metadata": {},
     "output_type": "display_data"
    },
    {
     "name": "stdout",
     "output_type": "stream",
     "text": [
      "g_E_self = 0.56\n",
      "rate PV and NPY (Cortex): [5. 5.] Hz\n",
      "rate PV and NPY (Claustrum): [5. 5.] Hz\n",
      "rate PV and NPY (Cortex): [3.29652535 0.07538697] Hz\n",
      "rate PV and NPY (Claustrum): [3.29305672e-06 0.00000000e+00] MHz\n",
      "rate PV and NPY (Cortex): [3.29652535 0.07538698] Hz\n",
      "rate PV and NPY (Claustrum): [3.29305672e-06 0.00000000e+00] MHz\n",
      "rate PV and NPY (Cortex): [4.96415590e-65 7.07642898e-85] yHz\n",
      "rate PV and NPY (Claustrum): [2.92665188e-06 0.00000000e+00] MHz\n",
      "rate PV and NPY (Cortex): [0. 0.] YHz\n",
      "rate PV and NPY (Claustrum): [2.87651324e-06 0.00000000e+00] MHz\n",
      "rate PV and NPY (Cortex): [0. 0.] YHz\n",
      "rate PV and NPY (Claustrum): [2.89184948e-06 0.00000000e+00] MHz\n",
      "rate PV and NPY (Cortex): [3.29609498 0.0801557 ] Hz\n",
      "rate PV and NPY (Claustrum): [3.29151194e-06 0.00000000e+00] MHz\n"
     ]
    },
    {
     "data": {
      "image/png": "[encoded data removed]",
      "text/plain": [
       "<Figure size 1280x800 with 2 Axes>"
      ]
     },
     "metadata": {},
     "output_type": "display_data"
    },
    {
     "name": "stdout",
     "output_type": "stream",
     "text": [
      "g_E_self = 0.5800000000000001\n",
      "rate PV and NPY (Cortex): [5. 5.] Hz\n",
      "rate PV and NPY (Claustrum): [5. 5.] Hz\n",
      "rate PV and NPY (Cortex): [3.29652535 0.07538697] Hz\n",
      "rate PV and NPY (Claustrum): [3.29305672e-06 0.00000000e+00] MHz\n",
      "rate PV and NPY (Cortex): [3.29652535 0.07538698] Hz\n",
      "rate PV and NPY (Claustrum): [3.29305672e-06 0.00000000e+00] MHz\n",
      "rate PV and NPY (Cortex): [4.96415590e-65 7.07642898e-85] yHz\n",
      "rate PV and NPY (Claustrum): [2.92665188e-06 0.00000000e+00] MHz\n",
      "rate PV and NPY (Cortex): [0. 0.] YHz\n",
      "rate PV and NPY (Claustrum): [2.87651324e-06 0.00000000e+00] MHz\n",
      "rate PV and NPY (Cortex): [0. 0.] YHz\n",
      "rate PV and NPY (Claustrum): [2.89184948e-06 0.00000000e+00] MHz\n",
      "rate PV and NPY (Cortex): [3.29609498 0.0801557 ] Hz\n",
      "rate PV and NPY (Claustrum): [3.29151194e-06 0.00000000e+00] MHz\n"
     ]
    },
    {
     "data": {
      "image/png": "[encoded data removed]",
      "text/plain": [
       "<Figure size 1280x800 with 2 Axes>"
      ]
     },
     "metadata": {},
     "output_type": "display_data"
    }
   ],
   "source": [
    "l = np.arange(0.48,0.60,0.02)\n",
    "\n",
    "fine_tuning(p_0,l)"
   ]
  },
  {
   "cell_type": "markdown",
   "metadata": {},
   "source": [
    "# Steady states"
   ]
  },
  {
   "cell_type": "code",
   "execution_count": 203,
   "metadata": {},
   "outputs": [],
   "source": [
    "area_list = ['Local']"
   ]
  },
  {
   "cell_type": "code",
   "execution_count": 21,
   "metadata": {},
   "outputs": [],
   "source": [
    "def steady_state_firing_rate(p):\n",
    "    model = Model(p)\n",
    "    model.run()   \n",
    "    steady_FR = model.R[-1,:,:] # steady state activity rate\n",
    "    #if want to take the mean\n",
    "    # l =[]\n",
    "    # for i in range(100):\n",
    "    # model.run()\n",
    "    # l.append(model.R[-1,:,:])\n",
    "    #stead_FR = np.mean(l)\n",
    "    return steady_FR"
   ]
  },
  {
   "cell_type": "code",
   "execution_count": 22,
   "metadata": {},
   "outputs": [],
   "source": [
    "def st_FR_diff_strength(parameter,stim_list = np.arange(0,0.1,0.02)):\n",
    "    steady_state_firing_rate_list = np.zeros((len(stim_list),1,3)) #UPDATE HERE\n",
    "    for a, alpha in enumerate(stim_list):\n",
    "        print('stim =', alpha)\n",
    "        p = parameter.copy()\n",
    "        p.update({'dist_strength': alpha * brian2.nA})\n",
    "        steady_FR = steady_state_firing_rate(p)\n",
    "        steady_state_firing_rate_list[a,:,:] = steady_FR #UPDATE HERE\n",
    "\n",
    "    return steady_state_firing_rate_list"
   ]
  },
  {
   "cell_type": "code",
   "execution_count": null,
   "metadata": {},
   "outputs": [],
   "source": [
    "#good for different areas\n",
    "def plot_st_FR_strength(stage,steady_state_firing_rate_list,stim_list):\n",
    "    plt.rcParams.update({'font.size': 20})\n",
    "\n",
    "    # generate dataframe\n",
    "    df_st_FR_E1 = pandas.DataFrame(steady_state_firing_rate_list[:,:,0], columns = area_list)\n",
    "    df_st_FR_E2 = pandas.DataFrame(steady_state_firing_rate_list[:,:,1], columns = area_list)\n",
    "    df_st_FR_I  = pandas.DataFrame(steady_state_firing_rate_list[:,:,2], columns = area_list)\n",
    "  \n",
    "    \n",
    "    fig = plt.figure(figsize = (25,16))\n",
    "    for a, alpha in enumerate(stim_list):\n",
    "        plt.plot(df_st_FR_E1.iloc[a,:],label= \"Stimulation strength =  %.3f\".format(alpha), c = cm.Blues(50+a*30), linewidth = 5)\n",
    "\n",
    "    plt.xticks(rotation=90)\n",
    "    plt.ylabel('Steady state firing rate (Hz)')\n",
    "    plt.legend()\n",
    "\n",
    "    for alpha in range(0,len(df_st_FR_E1)):\n",
    "        plt.scatter(np.arange(0,40),df_st_FR_E1.iloc[alpha,:],s = 80,c = cm.Blues(50+alpha*30))\n",
    "\n",
    "    plt.show()\n",
    "    return fig"
   ]
  },
  {
   "cell_type": "code",
   "execution_count": 45,
   "metadata": {},
   "outputs": [
    {
     "name": "stdout",
     "output_type": "stream",
     "text": [
      "stim = 0.08\n",
      "stim = 0.085\n",
      "stim = 0.09000000000000001\n",
      "stim = 0.09500000000000001\n",
      "stim = 0.10000000000000002\n"
     ]
    }
   ],
   "source": [
    "stim_list = np.arange(0.08,0.10,0.005)\n",
    "\n",
    "df_st_FR = st_FR_diff_strength(p_0,stim_list)"
   ]
  },
  {
   "cell_type": "code",
   "execution_count": 46,
   "metadata": {},
   "outputs": [],
   "source": [
    "def plot_st_FR_E1(df_st_FR, stim_list):\n",
    "    \n",
    "    fig = plt.figure(figsize = (5,5))\n",
    "    df_st_FR_E1 = pandas.DataFrame(df_st_FR[:,:,0])\n",
    "    plt.plot(stim_list,df_st_FR_E1, linewidth=0, marker='x')\n",
    "    plt.xlabel('Distr_strength (nA)')\n",
    "    plt.ylabel('E1 FR (Hz)')\n",
    "    plt.show()\n",
    "    return fig"
   ]
  },
  {
   "cell_type": "code",
   "execution_count": 47,
   "metadata": {},
   "outputs": [
    {
     "data": {
      "image/png": "[encoded data removed]",
      "text/plain": [
       "<Figure size 360x360 with 1 Axes>"
      ]
     },
     "metadata": {
      "needs_background": "light"
     },
     "output_type": "display_data"
    }
   ],
   "source": [
    "fig = plot_st_FR_E1(df_st_FR, stim_list)"
   ]
  },
  {
   "cell_type": "markdown",
   "metadata": {},
   "source": [
    "### Add distraction"
   ]
  },
  {
   "cell_type": "code",
   "execution_count": null,
   "metadata": {},
   "outputs": [],
   "source": [
    "def st_FR_diff_strength_dist(parameter,stim_list = np.arange(0.03,0.12,0.03), dist_list=np.arange(0,0.3,0.1)):\n",
    "    steady_state_firing_rate_list = np.zeros((len(dist_list),len(stim_list),3)) #UPDATE HERE\n",
    "    for d, delta in enumerate(dist_list):\n",
    "        print('dist_strength = ', delta)\n",
    "        p = parameter.copy()\n",
    "        p.update({'dist_strength' : delta * brian2.nA})\n",
    "        print(p['dist_strength'])\n",
    "        for a, alpha in enumerate(stim_list):\n",
    "            print('stim =', alpha)\n",
    "            p.update({'stim_strength': alpha * brian2.nA})\n",
    "            steady_FR = steady_state_firing_rate(p)\n",
    "            steady_state_firing_rate_list[d,a,:] = steady_FR #UPDATE HERE\n",
    "    return steady_state_firing_rate_list"
   ]
  },
  {
   "cell_type": "code",
   "execution_count": null,
   "metadata": {},
   "outputs": [],
   "source": [
    "stim_list = np.arange(0.03,0.12,0.03)\n",
    "dist_list = np.arange(0,0.2,0.05)\n",
    "\n",
    "df_st_FR = st_FR_diff_strength_dist(p_0,stim_list, dist_list)"
   ]
  },
  {
   "cell_type": "code",
   "execution_count": null,
   "metadata": {},
   "outputs": [],
   "source": [
    "df_st_FR\n"
   ]
  },
  {
   "cell_type": "code",
   "execution_count": null,
   "metadata": {},
   "outputs": [],
   "source": [
    "def plot_FR_diff_strength_dist_E1(df_st_FR, stim_list, dist_list):\n",
    "    fig = plt.figure(figsize = (10,10))\n",
    "    for i in range(len(dist_list)):\n",
    "        df_st_dist_E1 = pandas.DataFrame(df_st_FR[i,:,0])\n",
    "        plt.plot(stim_list,df_st_dist_E1, linewidth=0, marker='o')\n",
    "        plt.xlabel('I_ext (nA)')\n",
    "        plt.ylabel('E1 FR (Hz)')\n",
    "    plt.legend(dist_list)\n",
    "    plt.show()\n",
    "    return "
   ]
  },
  {
   "cell_type": "code",
   "execution_count": null,
   "metadata": {},
   "outputs": [],
   "source": [
    "plot_FR_diff_strength_dist_E1(df_st_FR, stim_list,dist_list)"
   ]
  },
  {
   "cell_type": "markdown",
   "metadata": {},
   "source": [
    "# Fine-tuning to get robust regime"
   ]
  },
  {
   "cell_type": "code",
   "execution_count": null,
   "metadata": {},
   "outputs": [],
   "source": [
    "parameters.update({   \n",
    "                    # Strength of connections from E cells\n",
    "                    'g_E_self': 0.48 * brian2.nA ,        # nA --> I_local_grad_NMDA\n",
    "                    'g_E_cross': 0.0107* brian2.nA,         # nA --> J_NMDA --> I_local_nongrad_NMDA\n",
    "                    # Strength of connections from I cells\n",
    "                    'g_E_I':  -0.31   * brian2.nA,         # nA --> J_GABA --> I_local_GABA\n",
    "                    'g_Iself': -0.12  * brian2.nA,         # nA --> J_GABA --> I_local_GABA\n",
    "                    'g_I_E': 233 * brian2.pA,               #pA\n",
    "                        }) "
   ]
  },
  {
   "cell_type": "code",
   "execution_count": null,
   "metadata": {},
   "outputs": [],
   "source": [
    "def st_FR_diff_strength(parameter,par_list = np.arange(0,0.1,0.02)):\n",
    "    steady_state_firing_rate_list = np.zeros((len(par_list),1,3)) #UPDATE HERE\n",
    "    for a, alpha in enumerate(par_list):\n",
    "        print('par =', alpha)\n",
    "        p = parameter.copy()\n",
    "        p.update({'g_E_self': alpha * brian2.nA})\n",
    "        J =  np.array([[p['g_E_self']    , p['g_E_cross'], p['g_I_E']],\n",
    "              [p['g_E_cross']    , p['g_E_self'],  p['g_I_E']],\n",
    "               [p['g_E_I'],p['g_E_I'],p['g_Iself'] ]]).T * brian2.amp\n",
    "        J_NMDA = J*((J>0).astype(np.int))\n",
    "        J_GABA = J*((J<0).astype(np.int))\n",
    "        steady_FR = steady_state_firing_rate(p) #run model here\n",
    "        steady_state_firing_rate_list[a,:,:] = steady_FR #UPDATE HERE\n",
    "    return steady_state_firing_rate_list"
   ]
  },
  {
   "cell_type": "code",
   "execution_count": null,
   "metadata": {},
   "outputs": [],
   "source": [
    "par_list = np.arange(0.09,0.12,0.005)\n",
    "\n",
    "df_st_FR = st_FR_diff_strength(p_0,par_list)"
   ]
  }
 ],
 "metadata": {
  "kernelspec": {
   "display_name": "Python 3",
   "language": "python",
   "name": "python3"
  },
  "language_info": {
   "codemirror_mode": {
    "name": "ipython",
    "version": 3
   },
   "file_extension": ".py",
   "mimetype": "text/x-python",
   "name": "python",
   "nbconvert_exporter": "python",
   "pygments_lexer": "ipython3",
   "version": "3.7.4"
  }
 },
 "nbformat": 4,
 "nbformat_minor": 2
}
